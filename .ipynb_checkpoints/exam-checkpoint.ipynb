{
 "cells": [
  {
   "cell_type": "markdown",
   "id": "c9d515a5-f6be-4d60-839b-f2a9ef5ff282",
   "metadata": {},
   "source": [
    "1. Какое среднее значение возраста (Age) пассажиров в каждом классе (Pclass)?\n",
    " 2. Сколько детей (возраст менее 18 лет) находилось в каждом классе (Pclass)?\n",
    " 3. Какой самый старший пассажир (с наивысшим возрастом) выжил, и сколько лет ему было?\n",
    " 4. Сколько пассажиров с пропущенным значением возраста (Age) выжило, а сколько погибло?\n",
    " 5. Какой процент пассажиров в каждой возрастной группе (например, дети, взрослые, пожилые) выжил?\n",
    " 6. Какова медиана возраста выживших и погибших пассажиров?\n",
    " 7. Существует ли корреляция между возрастом и ценой билета (Fare)?\n",
    " 8. Сколько пассажиров старше 60 лет находилось на борту?\n",
    " 9. Какое количество детей было на борту, путешествуя вместе с родителями (Parch > 0)?\n",
    " 10. Какой самый молодой пассажир, путешествовавший в одиночку (без родителей и супругов)?"
   ]
  },
  {
   "cell_type": "code",
   "execution_count": 1,
   "id": "3a29023e-7193-4bc4-ada5-e6b93adc1be6",
   "metadata": {},
   "outputs": [],
   "source": [
    "import numpy as np\n",
    "import pandas as pd\n",
    "import seaborn as sns\n",
    "import matplotlib.pyplot as plt"
   ]
  },
  {
   "cell_type": "code",
   "execution_count": 2,
   "id": "b36ef871-a809-422b-a904-595edeae8395",
   "metadata": {},
   "outputs": [],
   "source": [
    "df = pd.read_csv(\"train.csv\")"
   ]
  },
  {
   "cell_type": "code",
   "execution_count": 3,
   "id": "5b3ed79c-c948-438a-a623-c15d16d19bea",
   "metadata": {},
   "outputs": [
    {
     "data": {
      "text/html": [
       "<div>\n",
       "<style scoped>\n",
       "    .dataframe tbody tr th:only-of-type {\n",
       "        vertical-align: middle;\n",
       "    }\n",
       "\n",
       "    .dataframe tbody tr th {\n",
       "        vertical-align: top;\n",
       "    }\n",
       "\n",
       "    .dataframe thead th {\n",
       "        text-align: right;\n",
       "    }\n",
       "</style>\n",
       "<table border=\"1\" class=\"dataframe\">\n",
       "  <thead>\n",
       "    <tr style=\"text-align: right;\">\n",
       "      <th></th>\n",
       "      <th>PassengerId</th>\n",
       "      <th>Survived</th>\n",
       "      <th>Pclass</th>\n",
       "      <th>Name</th>\n",
       "      <th>Sex</th>\n",
       "      <th>Age</th>\n",
       "      <th>SibSp</th>\n",
       "      <th>Parch</th>\n",
       "      <th>Ticket</th>\n",
       "      <th>Fare</th>\n",
       "      <th>Cabin</th>\n",
       "      <th>Embarked</th>\n",
       "    </tr>\n",
       "  </thead>\n",
       "  <tbody>\n",
       "    <tr>\n",
       "      <th>0</th>\n",
       "      <td>1</td>\n",
       "      <td>0</td>\n",
       "      <td>3</td>\n",
       "      <td>Braund, Mr. Owen Harris</td>\n",
       "      <td>male</td>\n",
       "      <td>22.0</td>\n",
       "      <td>1</td>\n",
       "      <td>0</td>\n",
       "      <td>A/5 21171</td>\n",
       "      <td>7.2500</td>\n",
       "      <td>NaN</td>\n",
       "      <td>S</td>\n",
       "    </tr>\n",
       "    <tr>\n",
       "      <th>1</th>\n",
       "      <td>2</td>\n",
       "      <td>1</td>\n",
       "      <td>1</td>\n",
       "      <td>Cumings, Mrs. John Bradley (Florence Briggs Th...</td>\n",
       "      <td>female</td>\n",
       "      <td>38.0</td>\n",
       "      <td>1</td>\n",
       "      <td>0</td>\n",
       "      <td>PC 17599</td>\n",
       "      <td>71.2833</td>\n",
       "      <td>C85</td>\n",
       "      <td>C</td>\n",
       "    </tr>\n",
       "    <tr>\n",
       "      <th>2</th>\n",
       "      <td>3</td>\n",
       "      <td>1</td>\n",
       "      <td>3</td>\n",
       "      <td>Heikkinen, Miss. Laina</td>\n",
       "      <td>female</td>\n",
       "      <td>26.0</td>\n",
       "      <td>0</td>\n",
       "      <td>0</td>\n",
       "      <td>STON/O2. 3101282</td>\n",
       "      <td>7.9250</td>\n",
       "      <td>NaN</td>\n",
       "      <td>S</td>\n",
       "    </tr>\n",
       "    <tr>\n",
       "      <th>3</th>\n",
       "      <td>4</td>\n",
       "      <td>1</td>\n",
       "      <td>1</td>\n",
       "      <td>Futrelle, Mrs. Jacques Heath (Lily May Peel)</td>\n",
       "      <td>female</td>\n",
       "      <td>35.0</td>\n",
       "      <td>1</td>\n",
       "      <td>0</td>\n",
       "      <td>113803</td>\n",
       "      <td>53.1000</td>\n",
       "      <td>C123</td>\n",
       "      <td>S</td>\n",
       "    </tr>\n",
       "    <tr>\n",
       "      <th>4</th>\n",
       "      <td>5</td>\n",
       "      <td>0</td>\n",
       "      <td>3</td>\n",
       "      <td>Allen, Mr. William Henry</td>\n",
       "      <td>male</td>\n",
       "      <td>35.0</td>\n",
       "      <td>0</td>\n",
       "      <td>0</td>\n",
       "      <td>373450</td>\n",
       "      <td>8.0500</td>\n",
       "      <td>NaN</td>\n",
       "      <td>S</td>\n",
       "    </tr>\n",
       "  </tbody>\n",
       "</table>\n",
       "</div>"
      ],
      "text/plain": [
       "   PassengerId  Survived  Pclass  \\\n",
       "0            1         0       3   \n",
       "1            2         1       1   \n",
       "2            3         1       3   \n",
       "3            4         1       1   \n",
       "4            5         0       3   \n",
       "\n",
       "                                                Name     Sex   Age  SibSp  \\\n",
       "0                            Braund, Mr. Owen Harris    male  22.0      1   \n",
       "1  Cumings, Mrs. John Bradley (Florence Briggs Th...  female  38.0      1   \n",
       "2                             Heikkinen, Miss. Laina  female  26.0      0   \n",
       "3       Futrelle, Mrs. Jacques Heath (Lily May Peel)  female  35.0      1   \n",
       "4                           Allen, Mr. William Henry    male  35.0      0   \n",
       "\n",
       "   Parch            Ticket     Fare Cabin Embarked  \n",
       "0      0         A/5 21171   7.2500   NaN        S  \n",
       "1      0          PC 17599  71.2833   C85        C  \n",
       "2      0  STON/O2. 3101282   7.9250   NaN        S  \n",
       "3      0            113803  53.1000  C123        S  \n",
       "4      0            373450   8.0500   NaN        S  "
      ]
     },
     "execution_count": 3,
     "metadata": {},
     "output_type": "execute_result"
    }
   ],
   "source": [
    "df.head()"
   ]
  },
  {
   "cell_type": "code",
   "execution_count": 4,
   "id": "e0948b6b-0a0b-49b5-a27d-70c7b994e86e",
   "metadata": {},
   "outputs": [
    {
     "data": {
      "text/plain": [
       "Pclass\n",
       "1    38.233441\n",
       "2    29.877630\n",
       "3    25.140620\n",
       "Name: Age, dtype: float64"
      ]
     },
     "execution_count": 4,
     "metadata": {},
     "output_type": "execute_result"
    }
   ],
   "source": [
    "average_age = df.groupby(\"Pclass\")[\"Age\"].mean()\n",
    "average_age"
   ]
  },
  {
   "cell_type": "code",
   "execution_count": 5,
   "id": "f06f4c81-e7b6-4dfe-ad93-df96283010f6",
   "metadata": {},
   "outputs": [
    {
     "data": {
      "text/plain": [
       "<Axes: title={'center': 'класс пассажиров'}, xlabel='Pclass'>"
      ]
     },
     "execution_count": 5,
     "metadata": {},
     "output_type": "execute_result"
    },
    {
     "data": {
      "image/png": "[encoded data removed]",
      "text/plain": [
       "<Figure size 640x480 with 1 Axes>"
      ]
     },
     "metadata": {},
     "output_type": "display_data"
    }
   ],
   "source": [
    "average_age.plot(kind='bar', title = 'класс пассажиров')"
   ]
  },
  {
   "cell_type": "code",
   "execution_count": 6,
   "id": "4a8cb140-0f48-4acf-ac29-e4e0c9912734",
   "metadata": {},
   "outputs": [
    {
     "data": {
      "text/plain": [
       "Pclass\n",
       "1    12\n",
       "2    23\n",
       "3    78\n",
       "Name: PassengerId, dtype: int64"
      ]
     },
     "execution_count": 6,
     "metadata": {},
     "output_type": "execute_result"
    }
   ],
   "source": [
    "children_by_class = df[df[\"Age\"] < 18].groupby(\"Pclass\")[\"PassengerId\"].count()\n",
    "children_by_class"
   ]
  },
  {
   "cell_type": "code",
   "execution_count": 7,
   "id": "882bf97e-ff9c-4084-aa5e-6450aa60a6f9",
   "metadata": {},
   "outputs": [
    {
     "data": {
      "text/plain": [
       "80.0"
      ]
     },
     "execution_count": 7,
     "metadata": {},
     "output_type": "execute_result"
    }
   ],
   "source": [
    "oldest_passenger = df[df[\"Survived\"] == 1][\"Age\"].max()\n",
    "oldest_passenger"
   ]
  },
  {
   "cell_type": "code",
   "execution_count": 8,
   "id": "be0006aa-1f3c-4a18-85dd-3fef070ac10b",
   "metadata": {},
   "outputs": [
    {
     "data": {
      "text/plain": [
       "<Axes: title={'center': 'класс пассажиров'}, xlabel='Survived'>"
      ]
     },
     "execution_count": 8,
     "metadata": {},
     "output_type": "execute_result"
    },
    {
     "data": {
      "image/png": "[encoded data removed]",
      "text/plain": [
       "<Figure size 640x480 with 1 Axes>"
      ]
     },
     "metadata": {},
     "output_type": "display_data"
    }
   ],
   "source": [
    "nan_age_survival = df[df[\"Age\"].isnull()].groupby(\"Survived\")[\"PassengerId\"].count()\n",
    "nan_age_survival.plot(kind='bar', title = 'класс пассажиров')"
   ]
  },
  {
   "cell_type": "code",
   "execution_count": 9,
   "id": "818f0eb5-4798-49eb-bf9c-5481d62550ce",
   "metadata": {},
   "outputs": [
    {
     "name": "stderr",
     "output_type": "stream",
     "text": [
      "C:\\Users\\nonam\\AppData\\Local\\Temp\\ipykernel_15332\\1911504207.py:3: FutureWarning: The default of observed=False is deprecated and will be changed to True in a future version of pandas. Pass observed=False to retain current behavior or observed=True to adopt the future default and silence this warning.\n",
      "  survived_by_age_group = df.groupby(age_groups)[\"Survived\"].mean()\n"
     ]
    },
    {
     "data": {
      "text/plain": [
       "<Axes: title={'center': 'класс пассажиров'}, xlabel='Age'>"
      ]
     },
     "execution_count": 9,
     "metadata": {},
     "output_type": "execute_result"
    },
    {
     "data": {
      "image/png": "[encoded data removed]",
      "text/plain": [
       "<Figure size 640x480 with 1 Axes>"
      ]
     },
     "metadata": {},
     "output_type": "display_data"
    }
   ],
   "source": [
    "### Какой процент пассажиров в каждой возрастной группе (например, дети, взрослые, пожилые) выжил?\n",
    "age_groups = pd.cut(df['Age'], bins=[0, 18, 30, 50, 100])\n",
    "survived_by_age_group = df.groupby(age_groups)[\"Survived\"].mean()\n",
    "survived_by_age_group.plot(kind='bar', title = 'класс пассажиров')"
   ]
  },
  {
   "cell_type": "markdown",
   "id": "13af8358-6d66-4d24-a3dd-1bd90394443a",
   "metadata": {},
   "source": [
    " 6. Какова медиана возраста выживших и погибших пассажиров?\n",
    " 7. Существует ли корреляция между возрастом и ценой билета (Fare)?\n",
    " 8. Сколько пассажиров старше 60 лет находилось на борту?\n",
    " 9. Какое количество детей было на борту, путешествуя вместе с родителями (Parch > 0)?\n",
    " 10. Какой самый молодой пассажир, путешествовавший в одиночку (без родителей и супругов)?\n",
    "n = "
   ]
  },
  {
   "cell_type": "code",
   "execution_count": 10,
   "id": "c2b4cf64-b073-44e7-bbc1-ee1f2f61a372",
   "metadata": {},
   "outputs": [
    {
     "data": {
      "text/plain": [
       "Survived\n",
       "0    28.0\n",
       "1    28.0\n",
       "Name: Age, dtype: float64"
      ]
     },
     "execution_count": 10,
     "metadata": {},
     "output_type": "execute_result"
    }
   ],
   "source": [
    "survived_median = df.groupby(\"Survived\")[\"Age\"].median()\n",
    "survived_median"
   ]
  },
  {
   "cell_type": "code",
   "execution_count": 11,
   "id": "7263bff1-6c70-4e79-adec-3fd78754bcab",
   "metadata": {},
   "outputs": [
    {
     "data": {
      "text/plain": [
       "0.09606669176903894"
      ]
     },
     "execution_count": 11,
     "metadata": {},
     "output_type": "execute_result"
    }
   ],
   "source": [
    "# Доделать\n",
    "\n",
    "price_corr = df['Age'].corr(df['Fare'])\n",
    "price_corr"
   ]
  },
  {
   "cell_type": "code",
   "execution_count": 12,
   "id": "a0cf718e-206f-4471-b79e-e6033c821d5a",
   "metadata": {},
   "outputs": [
    {
     "data": {
      "text/plain": [
       "22"
      ]
     },
     "execution_count": 12,
     "metadata": {},
     "output_type": "execute_result"
    }
   ],
   "source": [
    "above_sixty = df[df[\"Age\"] > 60][\"PassengerId\"].count()\n",
    "above_sixty"
   ]
  },
  {
   "cell_type": "code",
   "execution_count": 13,
   "id": "8e925829-5c46-4647-ae4b-3f7dbf9d6aa3",
   "metadata": {},
   "outputs": [
    {
     "data": {
      "text/plain": [
       "81"
      ]
     },
     "execution_count": 13,
     "metadata": {},
     "output_type": "execute_result"
    }
   ],
   "source": [
    "with_parents = df[(df[\"Age\"] < 18) & (df[\"Parch\"] > 0)][\"PassengerId\"].count()\n",
    "with_parents"
   ]
  },
  {
   "cell_type": "code",
   "execution_count": 14,
   "id": "6752c29f-a891-4004-9916-1331d330e736",
   "metadata": {},
   "outputs": [
    {
     "name": "stderr",
     "output_type": "stream",
     "text": [
      "C:\\Users\\nonam\\AppData\\Local\\Temp\\ipykernel_15332\\290640111.py:3: UserWarning: Boolean Series key will be reindexed to match DataFrame index.\n",
      "  ts = youngest_lonely_passenger[(df[\"SibSp\"] == 0) & (df[\"Parch\"] == 0)]\n"
     ]
    },
    {
     "data": {
      "text/html": [
       "<div>\n",
       "<style scoped>\n",
       "    .dataframe tbody tr th:only-of-type {\n",
       "        vertical-align: middle;\n",
       "    }\n",
       "\n",
       "    .dataframe tbody tr th {\n",
       "        vertical-align: top;\n",
       "    }\n",
       "\n",
       "    .dataframe thead th {\n",
       "        text-align: right;\n",
       "    }\n",
       "</style>\n",
       "<table border=\"1\" class=\"dataframe\">\n",
       "  <thead>\n",
       "    <tr style=\"text-align: right;\">\n",
       "      <th></th>\n",
       "      <th>PassengerId</th>\n",
       "      <th>Survived</th>\n",
       "      <th>Pclass</th>\n",
       "      <th>Name</th>\n",
       "      <th>Sex</th>\n",
       "      <th>Age</th>\n",
       "      <th>SibSp</th>\n",
       "      <th>Parch</th>\n",
       "      <th>Ticket</th>\n",
       "      <th>Fare</th>\n",
       "      <th>Cabin</th>\n",
       "      <th>Embarked</th>\n",
       "    </tr>\n",
       "  </thead>\n",
       "  <tbody>\n",
       "    <tr>\n",
       "      <th>58</th>\n",
       "      <td>59</td>\n",
       "      <td>1</td>\n",
       "      <td>2</td>\n",
       "      <td>West, Miss. Constance Mirium</td>\n",
       "      <td>female</td>\n",
       "      <td>5.0</td>\n",
       "      <td>1</td>\n",
       "      <td>2</td>\n",
       "      <td>C.A. 34651</td>\n",
       "      <td>27.7500</td>\n",
       "      <td>NaN</td>\n",
       "      <td>S</td>\n",
       "    </tr>\n",
       "    <tr>\n",
       "      <th>233</th>\n",
       "      <td>234</td>\n",
       "      <td>1</td>\n",
       "      <td>3</td>\n",
       "      <td>Asplund, Miss. Lillian Gertrud</td>\n",
       "      <td>female</td>\n",
       "      <td>5.0</td>\n",
       "      <td>4</td>\n",
       "      <td>2</td>\n",
       "      <td>347077</td>\n",
       "      <td>31.3875</td>\n",
       "      <td>NaN</td>\n",
       "      <td>S</td>\n",
       "    </tr>\n",
       "    <tr>\n",
       "      <th>448</th>\n",
       "      <td>449</td>\n",
       "      <td>1</td>\n",
       "      <td>3</td>\n",
       "      <td>Baclini, Miss. Marie Catherine</td>\n",
       "      <td>female</td>\n",
       "      <td>5.0</td>\n",
       "      <td>2</td>\n",
       "      <td>1</td>\n",
       "      <td>2666</td>\n",
       "      <td>19.2583</td>\n",
       "      <td>NaN</td>\n",
       "      <td>C</td>\n",
       "    </tr>\n",
       "    <tr>\n",
       "      <th>777</th>\n",
       "      <td>778</td>\n",
       "      <td>1</td>\n",
       "      <td>3</td>\n",
       "      <td>Emanuel, Miss. Virginia Ethel</td>\n",
       "      <td>female</td>\n",
       "      <td>5.0</td>\n",
       "      <td>0</td>\n",
       "      <td>0</td>\n",
       "      <td>364516</td>\n",
       "      <td>12.4750</td>\n",
       "      <td>NaN</td>\n",
       "      <td>S</td>\n",
       "    </tr>\n",
       "  </tbody>\n",
       "</table>\n",
       "</div>"
      ],
      "text/plain": [
       "     PassengerId  Survived  Pclass                            Name     Sex  \\\n",
       "58            59         1       2    West, Miss. Constance Mirium  female   \n",
       "233          234         1       3  Asplund, Miss. Lillian Gertrud  female   \n",
       "448          449         1       3  Baclini, Miss. Marie Catherine  female   \n",
       "777          778         1       3   Emanuel, Miss. Virginia Ethel  female   \n",
       "\n",
       "     Age  SibSp  Parch      Ticket     Fare Cabin Embarked  \n",
       "58   5.0      1      2  C.A. 34651  27.7500   NaN        S  \n",
       "233  5.0      4      2      347077  31.3875   NaN        S  \n",
       "448  5.0      2      1        2666  19.2583   NaN        C  \n",
       "777  5.0      0      0      364516  12.4750   NaN        S  "
      ]
     },
     "execution_count": 14,
     "metadata": {},
     "output_type": "execute_result"
    }
   ],
   "source": [
    "youngest_lonely_passenger_age = df[(df[\"SibSp\"] == 0) & (df[\"Parch\"] == 0)][\"Age\"].min()\n",
    "youngest_lonely_passenger = df[df[\"Age\"] == youngest_lonely_passenger_age]\n",
    "ts = youngest_lonely_passenger[(df[\"SibSp\"] == 0) & (df[\"Parch\"] == 0)]\n",
    "ts"
   ]
  },
  {
   "cell_type": "code",
   "execution_count": null,
   "id": "35c8abbd-8905-4129-baa6-33c7157909ef",
   "metadata": {},
   "outputs": [],
   "source": []
  },
  {
   "cell_type": "code",
   "execution_count": null,
   "id": "20ac8e8d-614c-43e6-8274-ea8cce721eb7",
   "metadata": {},
   "outputs": [],
   "source": []
  }
 ],
 "metadata": {
  "kernelspec": {
   "display_name": "Python 3 (ipykernel)",
   "language": "python",
   "name": "python3"
  },
  "language_info": {
   "codemirror_mode": {
    "name": "ipython",
    "version": 3
   },
   "file_extension": ".py",
   "mimetype": "text/x-python",
   "name": "python",
   "nbconvert_exporter": "python",
   "pygments_lexer": "ipython3",
   "version": "3.11.5"
  }
 },
 "nbformat": 4,
 "nbformat_minor": 5
}
