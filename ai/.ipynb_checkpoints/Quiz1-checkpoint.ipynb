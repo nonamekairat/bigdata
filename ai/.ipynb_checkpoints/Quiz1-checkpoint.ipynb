{
 "cells": [
  {
   "cell_type": "code",
   "execution_count": 2,
   "id": "0fc4cfe5-3c5a-4c22-8987-0112574c9984",
   "metadata": {},
   "outputs": [],
   "source": [
    "import numpy as np\n",
    "import pandas as pd\n",
    "import seaborn as sns\n",
    "import matplotlib.pyplot as plt"
   ]
  },
  {
   "cell_type": "code",
   "execution_count": 3,
   "id": "8f00ee44-54ea-4640-9058-18d7592a6326",
   "metadata": {},
   "outputs": [],
   "source": [
    "# Загрузка набора данных\n",
    "df = pd.read_csv(\"train.csv\")"
   ]
  },
  {
   "cell_type": "code",
   "execution_count": 4,
   "id": "a224bcaf-ebd9-4a44-8bcb-2902ffe445c9",
   "metadata": {},
   "outputs": [
    {
     "data": {
      "text/html": [
       "<div>\n",
       "<style scoped>\n",
       "    .dataframe tbody tr th:only-of-type {\n",
       "        vertical-align: middle;\n",
       "    }\n",
       "\n",
       "    .dataframe tbody tr th {\n",
       "        vertical-align: top;\n",
       "    }\n",
       "\n",
       "    .dataframe thead th {\n",
       "        text-align: right;\n",
       "    }\n",
       "</style>\n",
       "<table border=\"1\" class=\"dataframe\">\n",
       "  <thead>\n",
       "    <tr style=\"text-align: right;\">\n",
       "      <th></th>\n",
       "      <th>PassengerId</th>\n",
       "      <th>Survived</th>\n",
       "      <th>Pclass</th>\n",
       "      <th>Name</th>\n",
       "      <th>Sex</th>\n",
       "      <th>Age</th>\n",
       "      <th>SibSp</th>\n",
       "      <th>Parch</th>\n",
       "      <th>Ticket</th>\n",
       "      <th>Fare</th>\n",
       "      <th>Cabin</th>\n",
       "      <th>Embarked</th>\n",
       "    </tr>\n",
       "  </thead>\n",
       "  <tbody>\n",
       "    <tr>\n",
       "      <th>0</th>\n",
       "      <td>1</td>\n",
       "      <td>0</td>\n",
       "      <td>3</td>\n",
       "      <td>Braund, Mr. Owen Harris</td>\n",
       "      <td>male</td>\n",
       "      <td>22.0</td>\n",
       "      <td>1</td>\n",
       "      <td>0</td>\n",
       "      <td>A/5 21171</td>\n",
       "      <td>7.2500</td>\n",
       "      <td>NaN</td>\n",
       "      <td>S</td>\n",
       "    </tr>\n",
       "    <tr>\n",
       "      <th>1</th>\n",
       "      <td>2</td>\n",
       "      <td>1</td>\n",
       "      <td>1</td>\n",
       "      <td>Cumings, Mrs. John Bradley (Florence Briggs Th...</td>\n",
       "      <td>female</td>\n",
       "      <td>38.0</td>\n",
       "      <td>1</td>\n",
       "      <td>0</td>\n",
       "      <td>PC 17599</td>\n",
       "      <td>71.2833</td>\n",
       "      <td>C85</td>\n",
       "      <td>C</td>\n",
       "    </tr>\n",
       "    <tr>\n",
       "      <th>2</th>\n",
       "      <td>3</td>\n",
       "      <td>1</td>\n",
       "      <td>3</td>\n",
       "      <td>Heikkinen, Miss. Laina</td>\n",
       "      <td>female</td>\n",
       "      <td>26.0</td>\n",
       "      <td>0</td>\n",
       "      <td>0</td>\n",
       "      <td>STON/O2. 3101282</td>\n",
       "      <td>7.9250</td>\n",
       "      <td>NaN</td>\n",
       "      <td>S</td>\n",
       "    </tr>\n",
       "    <tr>\n",
       "      <th>3</th>\n",
       "      <td>4</td>\n",
       "      <td>1</td>\n",
       "      <td>1</td>\n",
       "      <td>Futrelle, Mrs. Jacques Heath (Lily May Peel)</td>\n",
       "      <td>female</td>\n",
       "      <td>35.0</td>\n",
       "      <td>1</td>\n",
       "      <td>0</td>\n",
       "      <td>113803</td>\n",
       "      <td>53.1000</td>\n",
       "      <td>C123</td>\n",
       "      <td>S</td>\n",
       "    </tr>\n",
       "    <tr>\n",
       "      <th>4</th>\n",
       "      <td>5</td>\n",
       "      <td>0</td>\n",
       "      <td>3</td>\n",
       "      <td>Allen, Mr. William Henry</td>\n",
       "      <td>male</td>\n",
       "      <td>35.0</td>\n",
       "      <td>0</td>\n",
       "      <td>0</td>\n",
       "      <td>373450</td>\n",
       "      <td>8.0500</td>\n",
       "      <td>NaN</td>\n",
       "      <td>S</td>\n",
       "    </tr>\n",
       "  </tbody>\n",
       "</table>\n",
       "</div>"
      ],
      "text/plain": [
       "   PassengerId  Survived  Pclass  \\\n",
       "0            1         0       3   \n",
       "1            2         1       1   \n",
       "2            3         1       3   \n",
       "3            4         1       1   \n",
       "4            5         0       3   \n",
       "\n",
       "                                                Name     Sex   Age  SibSp  \\\n",
       "0                            Braund, Mr. Owen Harris    male  22.0      1   \n",
       "1  Cumings, Mrs. John Bradley (Florence Briggs Th...  female  38.0      1   \n",
       "2                             Heikkinen, Miss. Laina  female  26.0      0   \n",
       "3       Futrelle, Mrs. Jacques Heath (Lily May Peel)  female  35.0      1   \n",
       "4                           Allen, Mr. William Henry    male  35.0      0   \n",
       "\n",
       "   Parch            Ticket     Fare Cabin Embarked  \n",
       "0      0         A/5 21171   7.2500   NaN        S  \n",
       "1      0          PC 17599  71.2833   C85        C  \n",
       "2      0  STON/O2. 3101282   7.9250   NaN        S  \n",
       "3      0            113803  53.1000  C123        S  \n",
       "4      0            373450   8.0500   NaN        S  "
      ]
     },
     "execution_count": 4,
     "metadata": {},
     "output_type": "execute_result"
    }
   ],
   "source": [
    "# Просмотр первых строк данных\n",
    "df.head()"
   ]
  },
  {
   "cell_type": "code",
   "execution_count": 6,
   "id": "38d481d0-eed4-4ac0-ae54-9233b6ac323d",
   "metadata": {},
   "outputs": [
    {
     "data": {
      "text/plain": [
       "<Axes: title={'center': 'класс пассажиров'}, xlabel='Pclass'>"
      ]
     },
     "execution_count": 6,
     "metadata": {},
     "output_type": "execute_result"
    },
    {
     "data": {
      "image/png": "[encoded data removed]",
      "text/plain": [
       "<Figure size 640x480 with 1 Axes>"
      ]
     },
     "metadata": {},
     "output_type": "display_data"
    }
   ],
   "source": [
    "#Какое среднее значение возраста (Age) пассажиров в каждом классе (Pclass)?\n",
    "average_age = df.groupby(\"Pclass\")[\"Age\"].mean()\n",
    "average_age.plot(kind='bar', title = 'класс пассажиров')"
   ]
  },
  {
   "cell_type": "code",
   "execution_count": 8,
   "id": "7a602903-32ef-4622-9aed-886fcdbc54a4",
   "metadata": {},
   "outputs": [
    {
     "data": {
      "text/plain": [
       "80.0"
      ]
     },
     "execution_count": 8,
     "metadata": {},
     "output_type": "execute_result"
    }
   ],
   "source": [
    "#Какой самый старший пассажир (с наивысшим возрастом) выжил, и сколько лет ему было?\n",
    "oldest_survival = df[df[\"Survived\"] == 1][\"Age\"].max()\n",
    "oldest_survival"
   ]
  },
  {
   "cell_type": "code",
   "execution_count": 12,
   "id": "6ad110cc-1a87-4662-9fd1-543533f7fb99",
   "metadata": {},
   "outputs": [
    {
     "data": {
      "text/plain": [
       "Survived\n",
       "0    125\n",
       "1     52\n",
       "Name: PassengerId, dtype: int64"
      ]
     },
     "execution_count": 12,
     "metadata": {},
     "output_type": "execute_result"
    }
   ],
   "source": [
    "#Сколько пассажиров с пропущенным значением возраста (Age) выжило, а сколько погибло?\n",
    "nan_age_survival = df[df[\"Age\"].isnull()].groupby(\"Survived\")[\"PassengerId\"].count()\n",
    "nan_age_survival"
   ]
  },
  {
   "cell_type": "code",
   "execution_count": 15,
   "id": "aaed9450-f94e-4140-8f77-999440ace3df",
   "metadata": {},
   "outputs": [
    {
     "name": "stderr",
     "output_type": "stream",
     "text": [
      "C:\\Users\\nonam\\AppData\\Local\\Temp\\ipykernel_18984\\972634808.py:3: FutureWarning: The default of observed=False is deprecated and will be changed to True in a future version of pandas. Pass observed=False to retain current behavior or observed=True to adopt the future default and silence this warning.\n",
      "  prozent = df.groupby(age_groups)[\"Survived\"].mean() * 100\n"
     ]
    },
    {
     "data": {
      "text/plain": [
       "Age\n",
       "дети        50.359712\n",
       "молодые     35.555556\n",
       "взрослые    42.049470\n",
       "пожилые     22.727273\n",
       "Name: Survived, dtype: float64"
      ]
     },
     "execution_count": 15,
     "metadata": {},
     "output_type": "execute_result"
    }
   ],
   "source": [
    "#Какой процент пассажиров в каждой возрастной группе (например, дети, взрослые, пожилые) выжил?\n",
    "age_groups = pd.cut(df[\"Age\"], bins=[0, 18, 30, 60, 100], labels=[\"дети\",\"молодые\", \"взрослые\", \"пожилые\"])\n",
    "prozent = df.groupby(age_groups)[\"Survived\"].mean() * 100\n",
    "prozent"
   ]
  },
  {
   "cell_type": "code",
   "execution_count": 18,
   "id": "8518397d-fc77-4af7-814c-9cca049d44d6",
   "metadata": {},
   "outputs": [
    {
     "data": {
      "text/plain": [
       "Pclass\n",
       "1    12\n",
       "2    23\n",
       "3    78\n",
       "Name: PassengerId, dtype: int64"
      ]
     },
     "execution_count": 18,
     "metadata": {},
     "output_type": "execute_result"
    }
   ],
   "source": [
    "#Количество детей в каждом классе (Pclass)\n",
    "kid_count = df[df[\"Age\"] < 18].groupby(\"Pclass\")[\"PassengerId\"].count()\n",
    "kid_count"
   ]
  },
  {
   "cell_type": "code",
   "execution_count": null,
   "id": "000895b8-cc30-48e1-bd1e-d3cf2ba0b63a",
   "metadata": {},
   "outputs": [],
   "source": [
    "#Самый старший выживший пассажир\n",
    "oldest_survival = df[df[\"Survived\"] == 1][\"Age\"].max()\n",
    "oldest_survival"
   ]
  },
  {
   "cell_type": "code",
   "execution_count": null,
   "id": "a6f8496b-5eeb-4676-8ea7-bd19ab7bcc71",
   "metadata": {},
   "outputs": [],
   "source": [
    "#Медиана возраста выживших и погибших"
   ]
  },
  {
   "cell_type": "code",
   "execution_count": null,
   "id": "f0be8bbd-28f2-42b7-9dad-9fcaa1733881",
   "metadata": {},
   "outputs": [],
   "source": [
    "#Количество пассажиров старше 60 лет"
   ]
  },
  {
   "cell_type": "code",
   "execution_count": null,
   "id": "a30315b3-8eb3-4bdd-b74c-4f919270b9a1",
   "metadata": {},
   "outputs": [],
   "source": [
    "#Самый молодой пассажир, путешествующий в одиночку (без родителей и супругов)"
   ]
  },
  {
   "cell_type": "code",
   "execution_count": null,
   "id": "1eb3b219-01a3-442f-890a-4ab4f242922a",
   "metadata": {},
   "outputs": [],
   "source": [
    "# Количество выживших пассажиров с каютами (Cabin) и без кают"
   ]
  }
 ],
 "metadata": {
  "kernelspec": {
   "display_name": "Python 3 (ipykernel)",
   "language": "python",
   "name": "python3"
  },
  "language_info": {
   "codemirror_mode": {
    "name": "ipython",
    "version": 3
   },
   "file_extension": ".py",
   "mimetype": "text/x-python",
   "name": "python",
   "nbconvert_exporter": "python",
   "pygments_lexer": "ipython3",
   "version": "3.11.5"
  }
 },
 "nbformat": 4,
 "nbformat_minor": 5
}
