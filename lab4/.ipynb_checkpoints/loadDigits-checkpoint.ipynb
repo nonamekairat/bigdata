{
 "cells": [
  {
   "cell_type": "code",
   "execution_count": 1,
   "id": "688069e3-8aa0-4360-a527-f299b620cd47",
   "metadata": {},
   "outputs": [],
   "source": [
    "from sklearn.datasets import load_digits\n",
    "from sklearn.model_selection import train_test_split\n",
    "from sklearn.neighbors import KNeighborsClassifier\n",
    "import numpy as np\n",
    "import pandas as pd"
   ]
  },
  {
   "cell_type": "code",
   "execution_count": 2,
   "id": "accae356-99a1-4932-8571-56fe4c3534cb",
   "metadata": {},
   "outputs": [],
   "source": [
    "digits_dataset = load_digits()"
   ]
  },
  {
   "cell_type": "code",
   "execution_count": 3,
   "id": "6d238b6c-3402-406c-9be3-9f4f4b9ccc22",
   "metadata": {},
   "outputs": [
    {
     "name": "stdout",
     "output_type": "stream",
     "text": [
      "Ключи iris_dataset: \n",
      "dict_keys(['data', 'target', 'frame', 'feature_names', 'target_names', 'images', 'DESCR'])\n"
     ]
    }
   ],
   "source": [
    "print(f\"Ключи iris_dataset: \\n{digits_dataset.keys()}\")"
   ]
  },
  {
   "cell_type": "code",
   "execution_count": 4,
   "id": "3c9e707d-b60e-47f6-b0fb-a7960e9bef5b",
   "metadata": {},
   "outputs": [
    {
     "name": "stdout",
     "output_type": "stream",
     "text": [
      "Первые пять строк массива data: \n",
      " [[ 0.  0.  5. 13.  9.  1.  0.  0.  0.  0. 13. 15. 10. 15.  5.  0.  0.  3.\n",
      "  15.  2.  0. 11.  8.  0.  0.  4. 12.  0.  0.  8.  8.  0.  0.  5.  8.  0.\n",
      "   0.  9.  8.  0.  0.  4. 11.  0.  1. 12.  7.  0.  0.  2. 14.  5. 10. 12.\n",
      "   0.  0.  0.  0.  6. 13. 10.  0.  0.  0.]\n",
      " [ 0.  0.  0. 12. 13.  5.  0.  0.  0.  0.  0. 11. 16.  9.  0.  0.  0.  0.\n",
      "   3. 15. 16.  6.  0.  0.  0.  7. 15. 16. 16.  2.  0.  0.  0.  0.  1. 16.\n",
      "  16.  3.  0.  0.  0.  0.  1. 16. 16.  6.  0.  0.  0.  0.  1. 16. 16.  6.\n",
      "   0.  0.  0.  0.  0. 11. 16. 10.  0.  0.]\n",
      " [ 0.  0.  0.  4. 15. 12.  0.  0.  0.  0.  3. 16. 15. 14.  0.  0.  0.  0.\n",
      "   8. 13.  8. 16.  0.  0.  0.  0.  1.  6. 15. 11.  0.  0.  0.  1.  8. 13.\n",
      "  15.  1.  0.  0.  0.  9. 16. 16.  5.  0.  0.  0.  0.  3. 13. 16. 16. 11.\n",
      "   5.  0.  0.  0.  0.  3. 11. 16.  9.  0.]\n",
      " [ 0.  0.  7. 15. 13.  1.  0.  0.  0.  8. 13.  6. 15.  4.  0.  0.  0.  2.\n",
      "   1. 13. 13.  0.  0.  0.  0.  0.  2. 15. 11.  1.  0.  0.  0.  0.  0.  1.\n",
      "  12. 12.  1.  0.  0.  0.  0.  0.  1. 10.  8.  0.  0.  0.  8.  4.  5. 14.\n",
      "   9.  0.  0.  0.  7. 13. 13.  9.  0.  0.]\n",
      " [ 0.  0.  0.  1. 11.  0.  0.  0.  0.  0.  0.  7.  8.  0.  0.  0.  0.  0.\n",
      "   1. 13.  6.  2.  2.  0.  0.  0.  7. 15.  0.  9.  8.  0.  0.  5. 16. 10.\n",
      "   0. 16.  6.  0.  0.  4. 15. 16. 13. 16.  1.  0.  0.  0.  0.  3. 15. 10.\n",
      "   0.  0.  0.  0.  0.  2. 16.  4.  0.  0.]]\n"
     ]
    }
   ],
   "source": [
    "print(f\"Первые пять строк массива data: \\n {digits_dataset['data'][:5]}\")"
   ]
  },
  {
   "cell_type": "code",
   "execution_count": 5,
   "id": "155fbe0a-c38b-47ad-ab8a-934d1037109e",
   "metadata": {},
   "outputs": [
    {
     "name": "stdout",
     "output_type": "stream",
     "text": [
      "Форма массива target: \n",
      " (1797,)\n"
     ]
    }
   ],
   "source": [
    "print(f\"Форма массива target: \\n {digits_dataset['target'].shape}\")"
   ]
  },
  {
   "cell_type": "code",
   "execution_count": 6,
   "id": "16eb56fd-60b2-41f3-83a0-fcf723317df8",
   "metadata": {},
   "outputs": [
    {
     "name": "stdout",
     "output_type": "stream",
     "text": [
      "Все числа: \n",
      " [0 1 2 3 4 5 6 7 8 9]\n"
     ]
    }
   ],
   "source": [
    "print(f\"Все числа: \\n {digits_dataset['target_names']}\")"
   ]
  },
  {
   "cell_type": "code",
   "execution_count": 7,
   "id": "6da4d341-0dcc-4dac-8c6e-6395bd983344",
   "metadata": {},
   "outputs": [
    {
     "name": "stdout",
     "output_type": "stream",
     "text": [
      "первые 50 ответов: \n",
      " [0 1 2 3 4 5 6 7 8 9 0 1 2 3 4 5 6 7 8 9 0 1 2 3 4 5 6 7 8 9 0 9 5 5 6 5 0\n",
      " 9 8 9 8 4 1 7 7 3 5 1 0 0]\n"
     ]
    }
   ],
   "source": [
    "print(f\"первые 50 ответов: \\n {digits_dataset['target'][:50]}\")"
   ]
  },
  {
   "cell_type": "code",
   "execution_count": 8,
   "id": "06b5cf6f-00ae-4ac9-b621-c767de89de3b",
   "metadata": {},
   "outputs": [],
   "source": [
    "X_train, X_test, y_train, y_test = train_test_split(\n",
    "    digits_dataset['data'], \n",
    "    digits_dataset['target'],\n",
    "    random_state = 0)"
   ]
  },
  {
   "cell_type": "code",
   "execution_count": 9,
   "id": "8aa5d7f3-c4e3-418d-a2f0-a9a971f2d321",
   "metadata": {},
   "outputs": [
    {
     "name": "stdout",
     "output_type": "stream",
     "text": [
      "форма массива X_train: \n",
      " (1347, 64)\n",
      "форма массива y_train: \n",
      " (1347,)\n"
     ]
    }
   ],
   "source": [
    "print(f\"форма массива X_train: \\n {X_train.shape}\")\n",
    "print(f\"форма массива y_train: \\n {y_train.shape}\")"
   ]
  },
  {
   "cell_type": "code",
   "execution_count": 10,
   "id": "b62af3ba-17cf-4032-9dfa-03141be27648",
   "metadata": {},
   "outputs": [
    {
     "name": "stdout",
     "output_type": "stream",
     "text": [
      "форма массива X_test: \n",
      " (450, 64)\n",
      "форма массива y_test: \n",
      " (450,)\n"
     ]
    }
   ],
   "source": [
    "print(f\"форма массива X_test: \\n {X_test.shape}\")\n",
    "print(f\"форма массива y_test: \\n {y_test.shape}\")"
   ]
  },
  {
   "cell_type": "code",
   "execution_count": 12,
   "id": "129607cd-cd78-4c40-a8c0-1825a46bdd96",
   "metadata": {},
   "outputs": [
    {
     "name": "stdout",
     "output_type": "stream",
     "text": [
      "feature_names: \n",
      "['pixel_0_0', 'pixel_0_1', 'pixel_0_2', 'pixel_0_3', 'pixel_0_4', 'pixel_0_5', 'pixel_0_6', 'pixel_0_7', 'pixel_1_0', 'pixel_1_1', 'pixel_1_2', 'pixel_1_3', 'pixel_1_4', 'pixel_1_5', 'pixel_1_6', 'pixel_1_7', 'pixel_2_0', 'pixel_2_1', 'pixel_2_2', 'pixel_2_3', 'pixel_2_4', 'pixel_2_5', 'pixel_2_6', 'pixel_2_7', 'pixel_3_0', 'pixel_3_1', 'pixel_3_2', 'pixel_3_3', 'pixel_3_4', 'pixel_3_5', 'pixel_3_6', 'pixel_3_7', 'pixel_4_0', 'pixel_4_1', 'pixel_4_2', 'pixel_4_3', 'pixel_4_4', 'pixel_4_5', 'pixel_4_6', 'pixel_4_7', 'pixel_5_0', 'pixel_5_1', 'pixel_5_2', 'pixel_5_3', 'pixel_5_4', 'pixel_5_5', 'pixel_5_6', 'pixel_5_7', 'pixel_6_0', 'pixel_6_1', 'pixel_6_2', 'pixel_6_3', 'pixel_6_4', 'pixel_6_5', 'pixel_6_6', 'pixel_6_7', 'pixel_7_0', 'pixel_7_1', 'pixel_7_2', 'pixel_7_3', 'pixel_7_4', 'pixel_7_5', 'pixel_7_6', 'pixel_7_7']\n"
     ]
    }
   ],
   "source": [
    "print(f\"feature_names: \\n{digits_dataset['feature_names']}\")"
   ]
  },
  {
   "cell_type": "code",
   "execution_count": null,
   "id": "cbaf7bb6-1177-4434-b035-d40304d630fe",
   "metadata": {},
   "outputs": [
    {
     "name": "stderr",
     "output_type": "stream",
     "text": [
      "C:\\Users\\nonam\\AppData\\Local\\Programs\\Python\\Python311\\Lib\\site-packages\\pandas\\plotting\\_matplotlib\\misc.py:91: UserWarning: Attempting to set identical low and high xlims makes transformation singular; automatically expanding.\n",
      "  ax.set_xlim(boundaries_list[i])\n",
      "C:\\Users\\nonam\\AppData\\Local\\Programs\\Python\\Python311\\Lib\\site-packages\\pandas\\plotting\\_matplotlib\\misc.py:101: UserWarning: Attempting to set identical low and high ylims makes transformation singular; automatically expanding.\n",
      "  ax.set_ylim(boundaries_list[i])\n",
      "C:\\Users\\nonam\\AppData\\Local\\Programs\\Python\\Python311\\Lib\\site-packages\\pandas\\plotting\\_matplotlib\\misc.py:100: UserWarning: Attempting to set identical low and high xlims makes transformation singular; automatically expanding.\n",
      "  ax.set_xlim(boundaries_list[j])\n",
      "C:\\Users\\nonam\\AppData\\Local\\Programs\\Python\\Python311\\Lib\\site-packages\\pandas\\plotting\\_matplotlib\\misc.py:115: RuntimeWarning: invalid value encountered in divide\n",
      "  adj = (locs - lim1[0]) / (lim1[1] - lim1[0])\n"
     ]
    },
    {
     "data": {
      "text/plain": [
       "array([[<Axes: xlabel='pixel_0_0', ylabel='pixel_0_0'>,\n",
       "        <Axes: xlabel='pixel_0_1', ylabel='pixel_0_0'>,\n",
       "        <Axes: xlabel='pixel_0_2', ylabel='pixel_0_0'>, ...,\n",
       "        <Axes: xlabel='pixel_7_5', ylabel='pixel_0_0'>,\n",
       "        <Axes: xlabel='pixel_7_6', ylabel='pixel_0_0'>,\n",
       "        <Axes: xlabel='pixel_7_7', ylabel='pixel_0_0'>],\n",
       "       [<Axes: xlabel='pixel_0_0', ylabel='pixel_0_1'>,\n",
       "        <Axes: xlabel='pixel_0_1', ylabel='pixel_0_1'>,\n",
       "        <Axes: xlabel='pixel_0_2', ylabel='pixel_0_1'>, ...,\n",
       "        <Axes: xlabel='pixel_7_5', ylabel='pixel_0_1'>,\n",
       "        <Axes: xlabel='pixel_7_6', ylabel='pixel_0_1'>,\n",
       "        <Axes: xlabel='pixel_7_7', ylabel='pixel_0_1'>],\n",
       "       [<Axes: xlabel='pixel_0_0', ylabel='pixel_0_2'>,\n",
       "        <Axes: xlabel='pixel_0_1', ylabel='pixel_0_2'>,\n",
       "        <Axes: xlabel='pixel_0_2', ylabel='pixel_0_2'>, ...,\n",
       "        <Axes: xlabel='pixel_7_5', ylabel='pixel_0_2'>,\n",
       "        <Axes: xlabel='pixel_7_6', ylabel='pixel_0_2'>,\n",
       "        <Axes: xlabel='pixel_7_7', ylabel='pixel_0_2'>],\n",
       "       ...,\n",
       "       [<Axes: xlabel='pixel_0_0', ylabel='pixel_7_5'>,\n",
       "        <Axes: xlabel='pixel_0_1', ylabel='pixel_7_5'>,\n",
       "        <Axes: xlabel='pixel_0_2', ylabel='pixel_7_5'>, ...,\n",
       "        <Axes: xlabel='pixel_7_5', ylabel='pixel_7_5'>,\n",
       "        <Axes: xlabel='pixel_7_6', ylabel='pixel_7_5'>,\n",
       "        <Axes: xlabel='pixel_7_7', ylabel='pixel_7_5'>],\n",
       "       [<Axes: xlabel='pixel_0_0', ylabel='pixel_7_6'>,\n",
       "        <Axes: xlabel='pixel_0_1', ylabel='pixel_7_6'>,\n",
       "        <Axes: xlabel='pixel_0_2', ylabel='pixel_7_6'>, ...,\n",
       "        <Axes: xlabel='pixel_7_5', ylabel='pixel_7_6'>,\n",
       "        <Axes: xlabel='pixel_7_6', ylabel='pixel_7_6'>,\n",
       "        <Axes: xlabel='pixel_7_7', ylabel='pixel_7_6'>],\n",
       "       [<Axes: xlabel='pixel_0_0', ylabel='pixel_7_7'>,\n",
       "        <Axes: xlabel='pixel_0_1', ylabel='pixel_7_7'>,\n",
       "        <Axes: xlabel='pixel_0_2', ylabel='pixel_7_7'>, ...,\n",
       "        <Axes: xlabel='pixel_7_5', ylabel='pixel_7_7'>,\n",
       "        <Axes: xlabel='pixel_7_6', ylabel='pixel_7_7'>,\n",
       "        <Axes: xlabel='pixel_7_7', ylabel='pixel_7_7'>]], dtype=object)"
      ]
     },
     "execution_count": 14,
     "metadata": {},
     "output_type": "execute_result"
    },
    {
     "name": "stderr",
     "output_type": "stream",
     "text": [
      "posx and posy should be finite values\n"
     ]
    }
   ],
   "source": [
    "digits_dataframe = pd.DataFrame(X_train, columns = digits_dataset.feature_names)\n",
    "grr = pd.plotting.scatter_matrix(digits_dataframe, c = y_train, figsize = (15, 15), marker = 'o',\n",
    "    hist_kwds = {'bins': 20}, s = 60, alpha= .8)\n",
    "grr"
   ]
  },
  {
   "cell_type": "code",
   "execution_count": null,
   "id": "8d1d9ac8-f45f-4a79-b458-d5d7e3db50b1",
   "metadata": {},
   "outputs": [],
   "source": [
    "X_new = np.array([[5, 2.9, 1, 0.2]])\n",
    "print(f\"форма массива X_new: {X_new.shape}\")\n",
    "prediction = knn.predict(X_new)\n",
    "print(\"Прогноз: {}\".format(prediction))\n",
    "print(\"Спрогнозированная метка: {}\".format(iris_dataset['target_names'][prediction]))\n",
    "y_pred = knn.predict(X_test)\n",
    "print(\"Прогнозы для тестового набора: \\n {}\".format(y_pred))\n",
    "print(\"Правильность на тестовом наборе: {:.2f}\".format(np.mean(y_pred == y_test)))"
   ]
  }
 ],
 "metadata": {
  "kernelspec": {
   "display_name": "Python 3 (ipykernel)",
   "language": "python",
   "name": "python3"
  },
  "language_info": {
   "codemirror_mode": {
    "name": "ipython",
    "version": 3
   },
   "file_extension": ".py",
   "mimetype": "text/x-python",
   "name": "python",
   "nbconvert_exporter": "python",
   "pygments_lexer": "ipython3",
   "version": "3.11.5"
  }
 },
 "nbformat": 4,
 "nbformat_minor": 5
}
