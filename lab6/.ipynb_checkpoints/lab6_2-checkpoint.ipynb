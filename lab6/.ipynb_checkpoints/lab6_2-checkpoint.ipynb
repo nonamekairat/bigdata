{
 "cells": [
  {
   "cell_type": "code",
   "execution_count": 1,
   "id": "a0afd5f6-e30d-48b8-9e2d-85b4384c2ff8",
   "metadata": {},
   "outputs": [],
   "source": [
    "from sklearn.ensemble import RandomForestClassifier\n",
    "from sklearn.preprocessing import MinMaxScaler\n",
    "from sklearn.model_selection import cross_val_score, GridSearchCV\n",
    "from sklearn.model_selection import train_test_split\n",
    "from sklearn.ensemble import RandomForestClassifier\n",
    "\n",
    "import pandas as pd\n",
    "import random"
   ]
  },
  {
   "cell_type": "code",
   "execution_count": 2,
   "id": "initial_id",
   "metadata": {
    "ExecuteTime": {
     "end_time": "2023-12-05T10:09:04.497318700Z",
     "start_time": "2023-12-05T10:09:04.488122400Z"
    }
   },
   "outputs": [],
   "source": [
    "\n",
    "\n",
    "# Создаем случайные данные\n",
    "data = {'salary': [random.randint(30000, 100000) for _ in range(1000)],\n",
    "        'city': [random.choice(['Bishkek', 'Moscow', 'London']) for _ in range(1000)],\n",
    "        'age': [random.randint(30, 65) for _ in range(1000)],\n",
    "        'vacation_prefer': [random.choice(['Shopping', 'Beach holiday']) for _ in range(1000)],\n",
    "        'transport_prefer': [random.choice(['auto', 'plane']) for _ in range(1000)],\n",
    "        'target': []}\n",
    "\n",
    "# Генерируем значения для 'target' в зависимости от зарплаты с учетом вероятности\n",
    "for i in range(0,1000):\n",
    "    probability = random.uniform(0, 1)\n",
    "    salary = data['salary'][i]\n",
    "    prefered_vacation = data['vacation_prefer'][i]\n",
    "    if salary < 50000:\n",
    "        if prefered_vacation == 'Beach holiday':\n",
    "            if probability < 0.5:\n",
    "                data['target'].append('Bishkek')\n",
    "            elif probability < 0.7:\n",
    "                data['target'].append('Moscow')\n",
    "            else:\n",
    "                data['target'].append('Hawaii')\n",
    "        else:\n",
    "            if probability < 0.6:\n",
    "                data['target'].append('Bishkek')\n",
    "            elif probability < 0.9:\n",
    "                data['target'].append('Moscow')\n",
    "            else:\n",
    "                data['target'].append('Hawaii')\n",
    "    elif 50000 <= salary < 80000:\n",
    "        if prefered_vacation == 'Beach holiday':\n",
    "            if probability < 0.3:\n",
    "                data['target'].append('Bishkek')\n",
    "            elif probability < 0.5:\n",
    "                data['target'].append('Moscow')\n",
    "            else:\n",
    "                data['target'].append('Hawaii')\n",
    "        else:\n",
    "            if probability < 0.3:\n",
    "                data['target'].append('Bishkek')\n",
    "            elif probability < 0.8:\n",
    "                data['target'].append('Moscow')\n",
    "            else:\n",
    "                data['target'].append('Hawaii')\n",
    "    else:\n",
    "        if prefered_vacation == 'Beach holiday':\n",
    "            data['target'].append('Hawaii')\n",
    "        else:\n",
    "            if probability < 0.1:\n",
    "                data['target'].append('Moscow')\n",
    "            else:\n",
    "                data['target'].append('Hawaii')\n",
    "\n",
    "# Создаем DataFrame\n",
    "df = pd.DataFrame(data)\n"
   ]
  },
  {
   "cell_type": "code",
   "execution_count": 3,
   "id": "95ea39ec158381f9",
   "metadata": {
    "ExecuteTime": {
     "end_time": "2023-12-05T10:09:05.215987200Z",
     "start_time": "2023-12-05T10:09:05.209432700Z"
    },
    "collapsed": false,
    "jupyter": {
     "outputs_hidden": false
    }
   },
   "outputs": [],
   "source": [
    "# Преобразовываем категориальные данные в числовые\n",
    "df_encoded = pd.get_dummies(df, columns=['city', 'vacation_prefer', 'transport_prefer'], drop_first=True)"
   ]
  },
  {
   "cell_type": "code",
   "execution_count": 4,
   "id": "3e53ad263099c48c",
   "metadata": {
    "ExecuteTime": {
     "end_time": "2023-12-05T10:09:05.821197700Z",
     "start_time": "2023-12-05T10:09:05.811396100Z"
    },
    "collapsed": false,
    "jupyter": {
     "outputs_hidden": false
    }
   },
   "outputs": [],
   "source": [
    "\n",
    "X = df_encoded.drop('target', axis=1)\n",
    "y = df_encoded['target']\n",
    "\n",
    "# Выделяем обучающую и тестовую выборку данных\n",
    "X_train, X_test, y_train, y_test = train_test_split(X, y, test_size=0.2, random_state=42)\n"
   ]
  },
  {
   "cell_type": "code",
   "execution_count": 5,
   "id": "fd981ae221ea0c62",
   "metadata": {
    "ExecuteTime": {
     "end_time": "2023-12-05T10:09:06.590355800Z",
     "start_time": "2023-12-05T10:09:06.587346100Z"
    },
    "collapsed": false,
    "jupyter": {
     "outputs_hidden": false
    }
   },
   "outputs": [],
   "source": [
    "\n",
    "# создаю модель\n",
    "model = RandomForestClassifier()\n"
   ]
  },
  {
   "cell_type": "code",
   "execution_count": 6,
   "id": "67b6397eaba4f2ce",
   "metadata": {
    "ExecuteTime": {
     "end_time": "2023-12-05T10:09:08.228099100Z",
     "start_time": "2023-12-05T10:09:08.073503700Z"
    },
    "collapsed": false,
    "jupyter": {
     "outputs_hidden": false
    }
   },
   "outputs": [
    {
     "name": "stdout",
     "output_type": "stream",
     "text": [
      "Точность модели: 0.6\n"
     ]
    }
   ],
   "source": [
    "model.fit(X_train, y_train)\n",
    "print(f'Точность модели: {model.score(X_test, y_test)}')\n"
   ]
  },
  {
   "cell_type": "code",
   "execution_count": 7,
   "id": "703021d0e98996fe",
   "metadata": {
    "ExecuteTime": {
     "end_time": "2023-12-05T10:09:33.758227300Z",
     "start_time": "2023-12-05T10:09:33.747574Z"
    },
    "collapsed": false,
    "jupyter": {
     "outputs_hidden": false
    }
   },
   "outputs": [
    {
     "name": "stdout",
     "output_type": "stream",
     "text": [
      "Predicted Target: Bishkek\n"
     ]
    }
   ],
   "source": [
    "# Предсказание на случайных данных\n",
    "all_cities = ['city_Bishkek', 'city_London', 'city_Moscow']\n",
    "\n",
    "# Создание случайного примера для предсказания\n",
    "random_data = {\n",
    "    'salary': [random.randint(30000, 80000)],\n",
    "    'age': [random.randint(30, 65)],\n",
    "    'vacation_prefer_Shopping': [1],\n",
    "    'transport_prefer_plane': [1]\n",
    "}\n",
    "\n",
    "random_data.update({city: [0] for city in all_cities})\n",
    "\n",
    "random_df = pd.DataFrame(random_data)\n",
    "\n",
    "random_df = random_df[X.columns]\n",
    "\n",
    "# Предсказание \n",
    "prediction = model.predict(random_df)\n",
    "print(f'Predicted Target: {prediction[0]}')\n"
   ]
  },
  {
   "cell_type": "code",
   "execution_count": 12,
   "id": "59e57ed7-8576-46b1-bdf6-61cb7a3c1229",
   "metadata": {},
   "outputs": [
    {
     "ename": "KeyError",
     "evalue": "\"['vacation_prefer'] not in index\"",
     "output_type": "error",
     "traceback": [
      "\u001b[1;31m---------------------------------------------------------------------------\u001b[0m",
      "\u001b[1;31mKeyError\u001b[0m                                  Traceback (most recent call last)",
      "Cell \u001b[1;32mIn[12], line 7\u001b[0m\n\u001b[0;32m      4\u001b[0m scaler \u001b[38;5;241m=\u001b[39m MinMaxScaler()\n\u001b[0;32m      6\u001b[0m \u001b[38;5;66;03m# Применение MinMaxScaling к обучающей и тестовой выборкам\u001b[39;00m\n\u001b[1;32m----> 7\u001b[0m X_train[numeric_features] \u001b[38;5;241m=\u001b[39m scaler\u001b[38;5;241m.\u001b[39mfit_transform(\u001b[43mX_train\u001b[49m\u001b[43m[\u001b[49m\u001b[43mnumeric_features\u001b[49m\u001b[43m]\u001b[49m)\n\u001b[0;32m      8\u001b[0m X_test[numeric_features] \u001b[38;5;241m=\u001b[39m scaler\u001b[38;5;241m.\u001b[39mtransform(X_test[numeric_features])\n\u001b[0;32m     10\u001b[0m \u001b[38;5;66;03m# после стандартизации\u001b[39;00m\n",
      "File \u001b[1;32m~\\AppData\\Local\\Programs\\Python\\Python311\\Lib\\site-packages\\pandas\\core\\frame.py:3902\u001b[0m, in \u001b[0;36mDataFrame.__getitem__\u001b[1;34m(self, key)\u001b[0m\n\u001b[0;32m   3900\u001b[0m     \u001b[38;5;28;01mif\u001b[39;00m is_iterator(key):\n\u001b[0;32m   3901\u001b[0m         key \u001b[38;5;241m=\u001b[39m \u001b[38;5;28mlist\u001b[39m(key)\n\u001b[1;32m-> 3902\u001b[0m     indexer \u001b[38;5;241m=\u001b[39m \u001b[38;5;28;43mself\u001b[39;49m\u001b[38;5;241;43m.\u001b[39;49m\u001b[43mcolumns\u001b[49m\u001b[38;5;241;43m.\u001b[39;49m\u001b[43m_get_indexer_strict\u001b[49m\u001b[43m(\u001b[49m\u001b[43mkey\u001b[49m\u001b[43m,\u001b[49m\u001b[43m \u001b[49m\u001b[38;5;124;43m\"\u001b[39;49m\u001b[38;5;124;43mcolumns\u001b[39;49m\u001b[38;5;124;43m\"\u001b[39;49m\u001b[43m)\u001b[49m[\u001b[38;5;241m1\u001b[39m]\n\u001b[0;32m   3904\u001b[0m \u001b[38;5;66;03m# take() does not accept boolean indexers\u001b[39;00m\n\u001b[0;32m   3905\u001b[0m \u001b[38;5;28;01mif\u001b[39;00m \u001b[38;5;28mgetattr\u001b[39m(indexer, \u001b[38;5;124m\"\u001b[39m\u001b[38;5;124mdtype\u001b[39m\u001b[38;5;124m\"\u001b[39m, \u001b[38;5;28;01mNone\u001b[39;00m) \u001b[38;5;241m==\u001b[39m \u001b[38;5;28mbool\u001b[39m:\n",
      "File \u001b[1;32m~\\AppData\\Local\\Programs\\Python\\Python311\\Lib\\site-packages\\pandas\\core\\indexes\\base.py:6114\u001b[0m, in \u001b[0;36mIndex._get_indexer_strict\u001b[1;34m(self, key, axis_name)\u001b[0m\n\u001b[0;32m   6111\u001b[0m \u001b[38;5;28;01melse\u001b[39;00m:\n\u001b[0;32m   6112\u001b[0m     keyarr, indexer, new_indexer \u001b[38;5;241m=\u001b[39m \u001b[38;5;28mself\u001b[39m\u001b[38;5;241m.\u001b[39m_reindex_non_unique(keyarr)\n\u001b[1;32m-> 6114\u001b[0m \u001b[38;5;28;43mself\u001b[39;49m\u001b[38;5;241;43m.\u001b[39;49m\u001b[43m_raise_if_missing\u001b[49m\u001b[43m(\u001b[49m\u001b[43mkeyarr\u001b[49m\u001b[43m,\u001b[49m\u001b[43m \u001b[49m\u001b[43mindexer\u001b[49m\u001b[43m,\u001b[49m\u001b[43m \u001b[49m\u001b[43maxis_name\u001b[49m\u001b[43m)\u001b[49m\n\u001b[0;32m   6116\u001b[0m keyarr \u001b[38;5;241m=\u001b[39m \u001b[38;5;28mself\u001b[39m\u001b[38;5;241m.\u001b[39mtake(indexer)\n\u001b[0;32m   6117\u001b[0m \u001b[38;5;28;01mif\u001b[39;00m \u001b[38;5;28misinstance\u001b[39m(key, Index):\n\u001b[0;32m   6118\u001b[0m     \u001b[38;5;66;03m# GH 42790 - Preserve name from an Index\u001b[39;00m\n",
      "File \u001b[1;32m~\\AppData\\Local\\Programs\\Python\\Python311\\Lib\\site-packages\\pandas\\core\\indexes\\base.py:6178\u001b[0m, in \u001b[0;36mIndex._raise_if_missing\u001b[1;34m(self, key, indexer, axis_name)\u001b[0m\n\u001b[0;32m   6175\u001b[0m     \u001b[38;5;28;01mraise\u001b[39;00m \u001b[38;5;167;01mKeyError\u001b[39;00m(\u001b[38;5;124mf\u001b[39m\u001b[38;5;124m\"\u001b[39m\u001b[38;5;124mNone of [\u001b[39m\u001b[38;5;132;01m{\u001b[39;00mkey\u001b[38;5;132;01m}\u001b[39;00m\u001b[38;5;124m] are in the [\u001b[39m\u001b[38;5;132;01m{\u001b[39;00maxis_name\u001b[38;5;132;01m}\u001b[39;00m\u001b[38;5;124m]\u001b[39m\u001b[38;5;124m\"\u001b[39m)\n\u001b[0;32m   6177\u001b[0m not_found \u001b[38;5;241m=\u001b[39m \u001b[38;5;28mlist\u001b[39m(ensure_index(key)[missing_mask\u001b[38;5;241m.\u001b[39mnonzero()[\u001b[38;5;241m0\u001b[39m]]\u001b[38;5;241m.\u001b[39munique())\n\u001b[1;32m-> 6178\u001b[0m \u001b[38;5;28;01mraise\u001b[39;00m \u001b[38;5;167;01mKeyError\u001b[39;00m(\u001b[38;5;124mf\u001b[39m\u001b[38;5;124m\"\u001b[39m\u001b[38;5;132;01m{\u001b[39;00mnot_found\u001b[38;5;132;01m}\u001b[39;00m\u001b[38;5;124m not in index\u001b[39m\u001b[38;5;124m\"\u001b[39m)\n",
      "\u001b[1;31mKeyError\u001b[0m: \"['vacation_prefer'] not in index\""
     ]
    }
   ],
   "source": [
    "# Выбираем числовых признаков для стандартизации\n",
    "numeric_features = ['salary', 'vacation_prefer']\n",
    "\n",
    "scaler = MinMaxScaler()\n",
    "\n",
    "# Применение MinMaxScaling к обучающей и тестовой выборкам\n",
    "X_train[numeric_features] = scaler.fit_transform(X_train[numeric_features])\n",
    "X_test[numeric_features] = scaler.transform(X_test[numeric_features])\n",
    "\n",
    "# после стандартизации\n",
    "model.fit(X_train, y_train)\n",
    "accuracy_after_scaling = model.score(X_test, y_test)\n",
    "print(f'Точность модели после стандартизации: {accuracy_after_scaling:.2f}')\n",
    "\n",
    "# Обновленное предсказание на случайных данных после стандартизации\n",
    "random_df[numeric_features] = scaler.transform(random_df[numeric_features])\n",
    "prediction_after_scaling = model.predict(random_df)\n",
    "print(f'Обновленное предсказание на случайных данных после стандартизации: {prediction_after_scaling[0]}')"
   ]
  },
  {
   "cell_type": "code",
   "execution_count": 9,
   "id": "17583f93-ce11-40b1-b8f2-1327587dd21d",
   "metadata": {},
   "outputs": [
    {
     "name": "stdout",
     "output_type": "stream",
     "text": [
      "Обновленная перекрестная проверка(среднее): 0.59\n"
     ]
    }
   ],
   "source": [
    "# Обновленная перекрестная проверка\n",
    "cv_scores_after_scaling = cross_val_score(model, X_train, y_train, cv=5)\n",
    "mean_cv_score_after_scaling = cv_scores_after_scaling.mean()\n",
    "print(f'Обновленная перекрестная проверка(среднее): {mean_cv_score_after_scaling:.2f}')\n"
   ]
  },
  {
   "cell_type": "code",
   "execution_count": 10,
   "id": "e91fa33299bb4051",
   "metadata": {
    "ExecuteTime": {
     "end_time": "2023-12-05T09:56:36.826976Z",
     "start_time": "2023-12-05T09:56:23.063704100Z"
    },
    "collapsed": false,
    "jupyter": {
     "outputs_hidden": false
    }
   },
   "outputs": [
    {
     "name": "stdout",
     "output_type": "stream",
     "text": [
      "Лучшие параметры после стандартизации: {'max_depth': 10, 'min_samples_split': 5, 'n_estimators': 200}\n",
      "Оценка моедли с лучшими параметрами после стандартизации: 0.62\n",
      "Оценка точности на обучающем наборе: 1.00\n",
      "Оценка точности на тестовом наборе: 0.58\n"
     ]
    }
   ],
   "source": [
    "param_grid = {'n_estimators': [50, 100, 200],\n",
    "              'max_depth': [None, 10, 20],\n",
    "              'min_samples_split': [2, 5, 10]}\n",
    "\n",
    "# Обновленный решетчатый поиск\n",
    "grid_search_after_scaling = GridSearchCV(model, param_grid, cv=5)\n",
    "grid_search_after_scaling.fit(X_train, y_train)\n",
    "\n",
    "print(f'Лучшие параметры после стандартизации: {grid_search_after_scaling.best_params_}')\n",
    "\n",
    "# Оценка модели с лучшими параметрами после стандартизации\n",
    "best_model_after_scaling = grid_search_after_scaling.best_estimator_\n",
    "best_accuracy_after_scaling = best_model_after_scaling.score(X_test, y_test)\n",
    "print(f'Оценка моедли с лучшими параметрами после стандартизации: {best_accuracy_after_scaling:.2f}')\n",
    "\n",
    "\n",
    "# Оценка точности на обучающем наборе\n",
    "train_accuracy = model.score(X_train, y_train)\n",
    "print(f'Оценка точности на обучающем наборе: {train_accuracy:.2f}')\n",
    "\n",
    "# Оценка точности на тестовом наборе\n",
    "test_accuracy = model.score(X_test, y_test)\n",
    "print(f'Оценка точности на тестовом наборе: {test_accuracy:.2f}')\n"
   ]
  },
  {
   "cell_type": "markdown",
   "id": "b2705fb9de2bd1ce",
   "metadata": {
    "collapsed": false,
    "jupyter": {
     "outputs_hidden": false
    }
   },
   "source": [
    "<h1>Результат</h1>\n",
    "Я создал случайный датасет в котором значение target определялось несколькими параметрами, зарплатой и предпочтением где отдыхать. Далее я преобразовал категориальные данные в числа, разделил данные на обучающие и тестовые наборы и создал модель. Для модели я использовал RandomForestClassifier. Модель показала точность в 0.6. Используя стандартизацию"
   ]
  },
  {
   "cell_type": "code",
   "execution_count": null,
   "id": "452945979bbe6a76",
   "metadata": {
    "collapsed": false,
    "jupyter": {
     "outputs_hidden": false
    }
   },
   "outputs": [],
   "source": []
  }
 ],
 "metadata": {
  "kernelspec": {
   "display_name": "Python 3 (ipykernel)",
   "language": "python",
   "name": "python3"
  },
  "language_info": {
   "codemirror_mode": {
    "name": "ipython",
    "version": 3
   },
   "file_extension": ".py",
   "mimetype": "text/x-python",
   "name": "python",
   "nbconvert_exporter": "python",
   "pygments_lexer": "ipython3",
   "version": "3.11.5"
  }
 },
 "nbformat": 4,
 "nbformat_minor": 5
}
