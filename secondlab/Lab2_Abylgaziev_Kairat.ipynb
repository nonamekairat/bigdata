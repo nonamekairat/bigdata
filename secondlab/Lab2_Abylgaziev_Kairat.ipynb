{
 "cells": [
  {
   "cell_type": "markdown",
   "id": "a88abe52156dcfe5",
   "metadata": {
    "collapsed": false,
    "jupyter": {
     "outputs_hidden": false
    }
   },
   "source": [
    "<h1>Laboratory work №2</h1>\n",
    "<h2>Abylgaziev Kairat AIN-1-21</h2>"
   ]
  },
  {
   "cell_type": "code",
   "execution_count": 1,
   "id": "fe006b7238713452",
   "metadata": {
    "ExecuteTime": {
     "end_time": "2023-09-28T19:48:36.033965800Z",
     "start_time": "2023-09-28T19:48:35.800630500Z"
    },
    "collapsed": false,
    "jupyter": {
     "outputs_hidden": false
    }
   },
   "outputs": [],
   "source": [
    "import numpy as np"
   ]
  },
  {
   "cell_type": "markdown",
   "id": "2283a5c3b2a4b95e",
   "metadata": {
    "collapsed": false,
    "jupyter": {
     "outputs_hidden": false
    }
   },
   "source": [
    "### 1.1. Создайте одномерный массив my_array, в котором по порядку все числа до 100, кратные 5"
   ]
  },
  {
   "cell_type": "code",
   "execution_count": 2,
   "id": "f24ebc5436da7de4",
   "metadata": {
    "ExecuteTime": {
     "end_time": "2023-09-28T19:48:36.033965800Z",
     "start_time": "2023-09-28T19:48:35.917325900Z"
    },
    "collapsed": false,
    "jupyter": {
     "outputs_hidden": false
    }
   },
   "outputs": [
    {
     "data": {
      "text/plain": [
       "array([  5,  10,  15,  20,  25,  30,  35,  40,  45,  50,  55,  60,  65,\n",
       "        70,  75,  80,  85,  90,  95, 100])"
      ]
     },
     "execution_count": 2,
     "metadata": {},
     "output_type": "execute_result"
    }
   ],
   "source": [
    "my_array = np.arange(5, 101, 5)\n",
    "my_array"
   ]
  },
  {
   "cell_type": "markdown",
   "id": "ea83b68c766e4774",
   "metadata": {
    "collapsed": false,
    "jupyter": {
     "outputs_hidden": false
    }
   },
   "source": [
    "### 2.1. Из полученного массива получить массив с кратными 10 числами"
   ]
  },
  {
   "cell_type": "code",
   "execution_count": 3,
   "id": "98dc770608fd7d6b",
   "metadata": {
    "ExecuteTime": {
     "end_time": "2023-09-28T19:48:36.033965800Z",
     "start_time": "2023-09-28T19:48:35.922767300Z"
    },
    "collapsed": false,
    "jupyter": {
     "outputs_hidden": false
    }
   },
   "outputs": [
    {
     "data": {
      "text/plain": [
       "array([ 10,  20,  30,  40,  50,  60,  70,  80,  90, 100])"
      ]
     },
     "execution_count": 3,
     "metadata": {},
     "output_type": "execute_result"
    }
   ],
   "source": [
    "my_array_10 = my_array[my_array % 10 == 0]\n",
    "my_array_10"
   ]
  },
  {
   "cell_type": "markdown",
   "id": "ef5d207aa61cf15f",
   "metadata": {
    "collapsed": false,
    "jupyter": {
     "outputs_hidden": false
    }
   },
   "source": [
    "### 3.1. Получить двумерный массив с двумя столбцами"
   ]
  },
  {
   "cell_type": "code",
   "execution_count": 4,
   "id": "b27fd125a3fb38f7",
   "metadata": {
    "ExecuteTime": {
     "end_time": "2023-09-28T19:48:36.033965800Z",
     "start_time": "2023-09-28T19:48:35.928346900Z"
    },
    "collapsed": false,
    "jupyter": {
     "outputs_hidden": false
    }
   },
   "outputs": [
    {
     "data": {
      "text/plain": [
       "array([[  5,  10],\n",
       "       [ 15,  20],\n",
       "       [ 25,  30],\n",
       "       [ 35,  40],\n",
       "       [ 45,  50],\n",
       "       [ 55,  60],\n",
       "       [ 65,  70],\n",
       "       [ 75,  80],\n",
       "       [ 85,  90],\n",
       "       [ 95, 100]])"
      ]
     },
     "execution_count": 4,
     "metadata": {},
     "output_type": "execute_result"
    }
   ],
   "source": [
    "my_2d_array = my_array.reshape(-1, 2)\n",
    "my_2d_array"
   ]
  },
  {
   "cell_type": "markdown",
   "id": "9471adbf821b7dc",
   "metadata": {
    "collapsed": false,
    "jupyter": {
     "outputs_hidden": false
    }
   },
   "source": [
    "### 4.1. Получите набор my_second_array, в котором все элементы меньше предыдущего исходного на 5"
   ]
  },
  {
   "cell_type": "code",
   "execution_count": 5,
   "id": "473b0e72d478a5e5",
   "metadata": {
    "ExecuteTime": {
     "end_time": "2023-09-28T19:48:36.033965800Z",
     "start_time": "2023-09-28T19:48:35.933868200Z"
    },
    "collapsed": false,
    "jupyter": {
     "outputs_hidden": false
    }
   },
   "outputs": [
    {
     "data": {
      "text/plain": [
       "array([[ 0,  5],\n",
       "       [10, 15],\n",
       "       [20, 25],\n",
       "       [30, 35],\n",
       "       [40, 45],\n",
       "       [50, 55],\n",
       "       [60, 65],\n",
       "       [70, 75],\n",
       "       [80, 85],\n",
       "       [90, 95]])"
      ]
     },
     "execution_count": 5,
     "metadata": {},
     "output_type": "execute_result"
    }
   ],
   "source": [
    "my_second_array = my_2d_array - 5\n",
    "my_second_array"
   ]
  },
  {
   "cell_type": "markdown",
   "id": "502d895036882504",
   "metadata": {
    "collapsed": false,
    "jupyter": {
     "outputs_hidden": false
    }
   },
   "source": [
    "### 5.1. Соедините массивы, полученные в п. 3.1 и 4.1, горизонтально. Используйте .T для транспонирования матрицы."
   ]
  },
  {
   "cell_type": "code",
   "execution_count": 6,
   "id": "9658873aa829ea9c",
   "metadata": {
    "ExecuteTime": {
     "end_time": "2023-09-28T19:48:36.033965800Z",
     "start_time": "2023-09-28T19:48:35.940024Z"
    },
    "collapsed": false,
    "jupyter": {
     "outputs_hidden": false
    }
   },
   "outputs": [
    {
     "data": {
      "text/plain": [
       "array([[  5,  10,   0,   5],\n",
       "       [ 15,  20,  10,  15],\n",
       "       [ 25,  30,  20,  25],\n",
       "       [ 35,  40,  30,  35],\n",
       "       [ 45,  50,  40,  45],\n",
       "       [ 55,  60,  50,  55],\n",
       "       [ 65,  70,  60,  65],\n",
       "       [ 75,  80,  70,  75],\n",
       "       [ 85,  90,  80,  85],\n",
       "       [ 95, 100,  90,  95]])"
      ]
     },
     "execution_count": 6,
     "metadata": {},
     "output_type": "execute_result"
    }
   ],
   "source": [
    "combined_array = np.hstack((my_2d_array, my_second_array))\n",
    "combined_array"
   ]
  },
  {
   "cell_type": "markdown",
   "id": "3176f10d47b82870",
   "metadata": {
    "collapsed": false,
    "jupyter": {
     "outputs_hidden": false
    }
   },
   "source": [
    "### 6.1. Разделите 2 и 3 строку на 4 верхних строки my_array. Используйте .T для транспонирования матрицы"
   ]
  },
  {
   "cell_type": "code",
   "execution_count": 31,
   "id": "dbbe1197a39c7092",
   "metadata": {
    "ExecuteTime": {
     "end_time": "2023-09-28T19:48:36.033965800Z",
     "start_time": "2023-09-28T19:48:35.945104800Z"
    },
    "collapsed": false,
    "jupyter": {
     "outputs_hidden": false
    }
   },
   "outputs": [
    {
     "name": "stdout",
     "output_type": "stream",
     "text": [
      "[[15 20 10 15]\n",
      " [ 5 10  0  5]]\n"
     ]
    },
    {
     "data": {
      "text/plain": [
       "array([ 5, 10, 15, 20])"
      ]
     },
     "execution_count": 31,
     "metadata": {},
     "output_type": "execute_result"
    }
   ],
   "source": [
    "combined_array2 = (combined_array[1:3] / my_array[:4]).T\n",
    "\n",
    "combined_array2 =  \n",
    "print(combined_array[1:3])\n",
    "my_array[:4]"
   ]
  },
  {
   "cell_type": "markdown",
   "id": "1c7a74afa9c052ac",
   "metadata": {
    "collapsed": false,
    "jupyter": {
     "outputs_hidden": false
    }
   },
   "source": [
    "### 7.1. Оставить только те значения, которые не изменились после деления"
   ]
  },
  {
   "cell_type": "code",
   "execution_count": 29,
   "id": "3c4e79d37f163087",
   "metadata": {
    "ExecuteTime": {
     "end_time": "2023-09-28T19:48:36.033965800Z",
     "start_time": "2023-09-28T19:48:35.950498500Z"
    },
    "collapsed": false,
    "jupyter": {
     "outputs_hidden": false
    }
   },
   "outputs": [
    {
     "data": {
      "text/plain": [
       "array([], shape=(0, 2), dtype=float64)"
      ]
     },
     "execution_count": 29,
     "metadata": {},
     "output_type": "execute_result"
    }
   ],
   "source": [
    "filtered_array = combined_array2[combined_array2[:, 0] == combined_array[:4][:, 1]]\n",
    "filtered_array"
   ]
  },
  {
   "cell_type": "markdown",
   "id": "4cf967754758691f",
   "metadata": {
    "collapsed": false,
    "jupyter": {
     "outputs_hidden": false
    }
   },
   "source": [
    "### 8.1. Снова получить трехстрочный двумерный массив и поменять местами первую и третью строки"
   ]
  },
  {
   "cell_type": "code",
   "execution_count": 9,
   "id": "369551deb898cdc2",
   "metadata": {
    "ExecuteTime": {
     "end_time": "2023-09-28T19:48:36.033965800Z",
     "start_time": "2023-09-28T19:48:35.955700800Z"
    },
    "collapsed": false,
    "jupyter": {
     "outputs_hidden": false
    }
   },
   "outputs": [
    {
     "data": {
      "text/plain": [
       "array([[25, 30, 20, 25],\n",
       "       [15, 20, 10, 15],\n",
       "       [ 5, 10,  0,  5]])"
      ]
     },
     "execution_count": 9,
     "metadata": {},
     "output_type": "execute_result"
    }
   ],
   "source": [
    "final_array = combined_array[:3]\n",
    "final_array[[0, 2]] = final_array[[2, 0]]\n",
    "final_array"
   ]
  },
  {
   "cell_type": "markdown",
   "id": "5ed5d617aceb2225",
   "metadata": {
    "collapsed": false,
    "jupyter": {
     "outputs_hidden": false
    }
   },
   "source": [
    "### 9.1. Получить среднее, медиану и стандартное отклонение для каждой строки"
   ]
  },
  {
   "cell_type": "code",
   "execution_count": 10,
   "id": "3f90f33aa10d14bb",
   "metadata": {
    "ExecuteTime": {
     "end_time": "2023-09-28T19:48:36.033965800Z",
     "start_time": "2023-09-28T19:48:35.961033Z"
    },
    "collapsed": false,
    "jupyter": {
     "outputs_hidden": false
    }
   },
   "outputs": [
    {
     "name": "stdout",
     "output_type": "stream",
     "text": [
      "Строка 1: Среднее = 25.0, Медиана = 25.0, Стандартное отклонение = 3.5355339059327378\n",
      "Строка 2: Среднее = 15.0, Медиана = 15.0, Стандартное отклонение = 3.5355339059327378\n",
      "Строка 3: Среднее = 5.0, Медиана = 5.0, Стандартное отклонение = 3.5355339059327378\n"
     ]
    }
   ],
   "source": [
    "mean_values = np.mean(final_array, axis=1)\n",
    "median_values = np.median(final_array, axis=1)\n",
    "std_deviation = np.std(final_array, axis=1)\n",
    "for i in range(len(median_values)):\n",
    "    print(f\"Строка {i+1}: Среднее = {mean_values[i]}, Медиана = {median_values[i]}, Стандартное отклонение = {std_deviation[i]}\")"
   ]
  },
  {
   "cell_type": "markdown",
   "id": "b91dd7ee77b478a0",
   "metadata": {
    "collapsed": false,
    "jupyter": {
     "outputs_hidden": false
    }
   },
   "source": [
    "### 10.1. Сделать нормализацию на максимальное значение вдоль строк, поделив каждый элемент массива на max() вдоль строк"
   ]
  },
  {
   "cell_type": "code",
   "execution_count": 11,
   "id": "4d156d453d0e8ae6",
   "metadata": {
    "ExecuteTime": {
     "end_time": "2023-09-28T19:48:36.033965800Z",
     "start_time": "2023-09-28T19:48:35.967745500Z"
    },
    "collapsed": false,
    "jupyter": {
     "outputs_hidden": false
    }
   },
   "outputs": [
    {
     "data": {
      "text/plain": [
       "array([[0.83333333, 1.        , 0.66666667, 0.83333333],\n",
       "       [0.75      , 1.        , 0.5       , 0.75      ],\n",
       "       [0.5       , 1.        , 0.        , 0.5       ]])"
      ]
     },
     "execution_count": 11,
     "metadata": {},
     "output_type": "execute_result"
    }
   ],
   "source": [
    "normalized_array = final_array / final_array.max(axis=1, keepdims=True)\n",
    "normalized_array"
   ]
  },
  {
   "cell_type": "markdown",
   "id": "9f80ac8ad77e8104",
   "metadata": {
    "collapsed": false,
    "jupyter": {
     "outputs_hidden": false
    }
   },
   "source": [
    "# 2.\tИспользование команд библиотеки pandas"
   ]
  },
  {
   "cell_type": "code",
   "execution_count": 12,
   "id": "3be0f2bc71270630",
   "metadata": {
    "ExecuteTime": {
     "end_time": "2023-09-28T19:48:36.317193100Z",
     "start_time": "2023-09-28T19:48:35.973656700Z"
    },
    "collapsed": false,
    "jupyter": {
     "outputs_hidden": false
    }
   },
   "outputs": [],
   "source": [
    "import pandas as pd"
   ]
  },
  {
   "cell_type": "markdown",
   "id": "a36eff07e3d3a5ea",
   "metadata": {
    "collapsed": false,
    "jupyter": {
     "outputs_hidden": false
    }
   },
   "source": [
    "### 2.1.\tИмпортируйте данные из файла “Global Population Trends(2016-2022).csv”. "
   ]
  },
  {
   "cell_type": "code",
   "execution_count": 13,
   "id": "19637ed5badee733",
   "metadata": {
    "ExecuteTime": {
     "end_time": "2023-09-28T19:48:36.325352Z",
     "start_time": "2023-09-28T19:48:36.317193100Z"
    },
    "collapsed": false,
    "jupyter": {
     "outputs_hidden": false
    }
   },
   "outputs": [],
   "source": [
    "file_path = 'Global Population Trends(2016-2022).csv'\n",
    "df = pd.read_csv(file_path)"
   ]
  },
  {
   "cell_type": "markdown",
   "id": "ff3650bdab5c9390",
   "metadata": {
    "collapsed": false,
    "jupyter": {
     "outputs_hidden": false
    }
   },
   "source": [
    "### 2.2: Считайте несколько первых записей таблицы"
   ]
  },
  {
   "cell_type": "code",
   "execution_count": 14,
   "id": "bdf729f60b2f7aff",
   "metadata": {
    "ExecuteTime": {
     "end_time": "2023-09-28T19:48:36.336886500Z",
     "start_time": "2023-09-28T19:48:36.325352Z"
    },
    "collapsed": false,
    "jupyter": {
     "outputs_hidden": false
    }
   },
   "outputs": [
    {
     "name": "stdout",
     "output_type": "stream",
     "text": [
      "       Country  Year Total Population Urban Population Rural Population  \\\n",
      "0  Afghanistan  2017                -                -                -   \n",
      "1  Afghanistan  2018       36,686,784        9,353,296       27,333,488   \n",
      "2  Afghanistan  2019       37,769,499        9,727,157       28,042,342   \n",
      "3  Afghanistan  2020       38,972,230       10,142,913       28,829,317   \n",
      "4  Afghanistan  2021       40,099,462       10,551,772       29,547,690   \n",
      "\n",
      "  Population Density Life Expectancy  Birth Rate  Death Rate Fertility Rate  \\\n",
      "0                 55            63.0      37.342       7.027          5.129   \n",
      "1                 56            63.0      36.927       6.981          5.002   \n",
      "2                 58            64.0      36.466       6.791           4.87   \n",
      "3                 60            63.0      36.051       7.113           4.75   \n",
      "4                  -            62.0      35.842       7.344          4.643   \n",
      "\n",
      "  Infant Mortality Rate Growth Rate  \n",
      "0                  49.4           -  \n",
      "1                  47.8         3.0  \n",
      "2                  46.3         3.0  \n",
      "3                  44.8         3.0  \n",
      "4                  43.4         3.0  \n"
     ]
    }
   ],
   "source": [
    "print(df.head())"
   ]
  },
  {
   "cell_type": "markdown",
   "id": "1479cee279287d7b",
   "metadata": {
    "collapsed": false,
    "jupyter": {
     "outputs_hidden": false
    }
   },
   "source": [
    "### 2.3: Определите размерность фрейма"
   ]
  },
  {
   "cell_type": "code",
   "execution_count": 15,
   "id": "94369479fed5e925",
   "metadata": {
    "ExecuteTime": {
     "end_time": "2023-09-28T19:48:36.341276900Z",
     "start_time": "2023-09-28T19:48:36.336886500Z"
    },
    "collapsed": false,
    "jupyter": {
     "outputs_hidden": false
    }
   },
   "outputs": [
    {
     "name": "stdout",
     "output_type": "stream",
     "text": [
      "(1073, 12)\n"
     ]
    }
   ],
   "source": [
    "print(df.shape)"
   ]
  },
  {
   "cell_type": "markdown",
   "id": "953be1f3be3b246a",
   "metadata": {
    "collapsed": false,
    "jupyter": {
     "outputs_hidden": false
    }
   },
   "source": [
    "### 2.4: Выведите названия заголовков столбцов"
   ]
  },
  {
   "cell_type": "code",
   "execution_count": 16,
   "id": "1676fb68457a5f72",
   "metadata": {
    "ExecuteTime": {
     "end_time": "2023-09-28T19:48:36.350819200Z",
     "start_time": "2023-09-28T19:48:36.341276900Z"
    },
    "collapsed": false,
    "jupyter": {
     "outputs_hidden": false
    }
   },
   "outputs": [
    {
     "name": "stdout",
     "output_type": "stream",
     "text": [
      "Index(['Country', 'Year', 'Total Population', 'Urban Population',\n",
      "       'Rural Population', 'Population Density', 'Life Expectancy',\n",
      "       'Birth Rate', 'Death Rate', 'Fertility Rate', 'Infant Mortality Rate',\n",
      "       'Growth Rate'],\n",
      "      dtype='object')\n"
     ]
    }
   ],
   "source": [
    "print(df.columns)"
   ]
  },
  {
   "cell_type": "markdown",
   "id": "5cf0bfd0c994448b",
   "metadata": {
    "collapsed": false,
    "jupyter": {
     "outputs_hidden": false
    }
   },
   "source": [
    "### 2.5: Получите описание всех переменных (полей)"
   ]
  },
  {
   "cell_type": "code",
   "execution_count": 17,
   "id": "8478427a201efa16",
   "metadata": {
    "ExecuteTime": {
     "end_time": "2023-09-28T19:48:36.417142Z",
     "start_time": "2023-09-28T19:48:36.350819200Z"
    },
    "collapsed": false,
    "jupyter": {
     "outputs_hidden": false
    }
   },
   "outputs": [
    {
     "name": "stdout",
     "output_type": "stream",
     "text": [
      "<class 'pandas.core.frame.DataFrame'>\n",
      "RangeIndex: 1073 entries, 0 to 1072\n",
      "Data columns (total 12 columns):\n",
      " #   Column                 Non-Null Count  Dtype  \n",
      "---  ------                 --------------  -----  \n",
      " 0   Country                1073 non-null   object \n",
      " 1   Year                   1073 non-null   int64  \n",
      " 2   Total Population       1073 non-null   object \n",
      " 3   Urban Population       1073 non-null   object \n",
      " 4   Rural Population       1073 non-null   object \n",
      " 5   Population Density     1073 non-null   object \n",
      " 6   Life Expectancy        1073 non-null   object \n",
      " 7   Birth Rate             1073 non-null   float64\n",
      " 8   Death Rate             1073 non-null   float64\n",
      " 9   Fertility Rate         1073 non-null   object \n",
      " 10  Infant Mortality Rate  1073 non-null   object \n",
      " 11  Growth Rate            1073 non-null   object \n",
      "dtypes: float64(2), int64(1), object(9)\n",
      "memory usage: 100.7+ KB\n",
      "None\n"
     ]
    }
   ],
   "source": [
    "print(df.info())"
   ]
  },
  {
   "cell_type": "markdown",
   "id": "b0ef3f42d31c010d",
   "metadata": {
    "collapsed": false,
    "jupyter": {
     "outputs_hidden": false
    }
   },
   "source": [
    "### 2.6: Удалите строки, не содержащие значения в столбце «Total Population»"
   ]
  },
  {
   "cell_type": "code",
   "execution_count": 18,
   "id": "dfa6e5b18cd14a1c",
   "metadata": {
    "ExecuteTime": {
     "end_time": "2023-09-28T19:48:36.417142Z",
     "start_time": "2023-09-28T19:48:36.357348700Z"
    },
    "collapsed": false,
    "jupyter": {
     "outputs_hidden": false
    }
   },
   "outputs": [],
   "source": [
    "df = df[df['Total Population'] != '-']"
   ]
  },
  {
   "cell_type": "markdown",
   "id": "415e57112cce1612",
   "metadata": {
    "collapsed": false,
    "jupyter": {
     "outputs_hidden": false
    }
   },
   "source": [
    "### 2.7: Получите описательную статистику по переменным"
   ]
  },
  {
   "cell_type": "code",
   "execution_count": 19,
   "id": "8eebe0eeeff61cc2",
   "metadata": {
    "ExecuteTime": {
     "end_time": "2023-09-28T19:48:36.417142Z",
     "start_time": "2023-09-28T19:48:36.362727800Z"
    },
    "collapsed": false,
    "jupyter": {
     "outputs_hidden": false
    }
   },
   "outputs": [
    {
     "name": "stdout",
     "output_type": "stream",
     "text": [
      "              Year  Birth Rate  Death Rate\n",
      "count   864.000000  864.000000  864.000000\n",
      "mean   2019.500000   18.548384    7.889123\n",
      "std       1.118682    9.887518    3.041385\n",
      "min    2018.000000    0.000000    0.000000\n",
      "25%    2018.750000   10.500000    6.116500\n",
      "50%    2019.500000   15.628500    7.453500\n",
      "75%    2020.250000   25.565000    9.385000\n",
      "max    2021.000000   46.127000   21.700000\n"
     ]
    }
   ],
   "source": [
    "print(df.describe())"
   ]
  },
  {
   "cell_type": "markdown",
   "id": "44a68908a4406cad",
   "metadata": {
    "collapsed": false,
    "jupyter": {
     "outputs_hidden": false
    }
   },
   "source": [
    "### 2.8: Выполните сортировку данных по нескольким критериям"
   ]
  },
  {
   "cell_type": "code",
   "execution_count": 20,
   "id": "82aa60020466492",
   "metadata": {
    "ExecuteTime": {
     "end_time": "2023-09-28T19:48:36.417142Z",
     "start_time": "2023-09-28T19:48:36.373900900Z"
    },
    "collapsed": false,
    "jupyter": {
     "outputs_hidden": false
    }
   },
   "outputs": [],
   "source": [
    "# сортировка по столбцу 'Year' в порядке убывания\n",
    "df = df.sort_values(by=['Year'], ascending=False)"
   ]
  },
  {
   "cell_type": "markdown",
   "id": "59a3ad4cd15094ee",
   "metadata": {
    "collapsed": false,
    "jupyter": {
     "outputs_hidden": false
    }
   },
   "source": [
    "### 2.9: Выведите название страны с максимальной численностью населения"
   ]
  },
  {
   "cell_type": "code",
   "execution_count": 25,
   "id": "4ae604950f06c4d4",
   "metadata": {
    "ExecuteTime": {
     "end_time": "2023-09-28T19:48:36.417142Z",
     "start_time": "2023-09-28T19:48:36.378742400Z"
    },
    "collapsed": false,
    "jupyter": {
     "outputs_hidden": false
    }
   },
   "outputs": [
    {
     "name": "stdout",
     "output_type": "stream",
     "text": [
      "Страна с максимальной численностью населения: China\n"
     ]
    }
   ],
   "source": [
    "# df['Total Population'] = df['Total Population'].str.replace(',', '').astype(int)\n",
    "max_population_index = df['Total Population'].idxmax()\n",
    "max_population_country = df.loc[max_population_index]['Country']\n",
    "print('Страна с максимальной численностью населения:', max_population_country)"
   ]
  },
  {
   "cell_type": "markdown",
   "id": "e607c63b2693652b",
   "metadata": {
    "collapsed": false,
    "jupyter": {
     "outputs_hidden": false
    }
   },
   "source": [
    "### 2.10: Выведите название страны с минимальной численностью населения"
   ]
  },
  {
   "cell_type": "code",
   "execution_count": 26,
   "id": "d6ac9913aa1f2e6c",
   "metadata": {
    "ExecuteTime": {
     "end_time": "2023-09-28T19:48:36.417142Z",
     "start_time": "2023-09-28T19:48:36.384782200Z"
    },
    "collapsed": false,
    "jupyter": {
     "outputs_hidden": false
    }
   },
   "outputs": [
    {
     "name": "stdout",
     "output_type": "stream",
     "text": [
      "Страна с минимальной численностью населения: Tuvalu\n"
     ]
    }
   ],
   "source": [
    "min_population_index = df['Total Population'].idxmin()\n",
    "min_population_country = df.loc[min_population_index]['Country']\n",
    "print('Страна с минимальной численностью населения:', min_population_country)\n"
   ]
  },
  {
   "cell_type": "markdown",
   "id": "53fd76e7d9b83a13",
   "metadata": {
    "collapsed": false,
    "jupyter": {
     "outputs_hidden": false
    }
   },
   "source": [
    "### 2.11: Экспорт фрейма в MS Excel"
   ]
  },
  {
   "cell_type": "code",
   "execution_count": null,
   "id": "34b8e8f57efa2f8a",
   "metadata": {
    "ExecuteTime": {
     "end_time": "2023-09-28T19:48:36.899503700Z",
     "start_time": "2023-09-28T19:48:36.391111800Z"
    },
    "collapsed": false,
    "jupyter": {
     "outputs_hidden": false
    }
   },
   "outputs": [],
   "source": [
    "excel_file_path = 'Global_Population_Trends.xlsx'\n",
    "df.to_excel(excel_file_path, index=False)\n",
    "print(f\"Фрейм успешно экспортирован в {excel_file_path}\")"
   ]
  }
 ],
 "metadata": {
  "kernelspec": {
   "display_name": "Python 3 (ipykernel)",
   "language": "python",
   "name": "python3"
  },
  "language_info": {
   "codemirror_mode": {
    "name": "ipython",
    "version": 3
   },
   "file_extension": ".py",
   "mimetype": "text/x-python",
   "name": "python",
   "nbconvert_exporter": "python",
   "pygments_lexer": "ipython3",
   "version": "3.11.5"
  }
 },
 "nbformat": 4,
 "nbformat_minor": 5
}
