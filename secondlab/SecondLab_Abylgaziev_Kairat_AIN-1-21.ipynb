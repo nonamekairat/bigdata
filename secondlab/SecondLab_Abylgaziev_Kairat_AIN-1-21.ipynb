{
 "cells": [
  {
   "cell_type": "code",
   "execution_count": 2,
   "id": "aba445f5-3fe6-4628-89d7-1acda213fa39",
   "metadata": {},
   "outputs": [],
   "source": [
    "import pandas as pd\n",
    "import numpy as np\n",
    "import seaborn as sns\n",
    "import matplotlib.pyplot as plt"
   ]
  },
  {
   "cell_type": "code",
   "execution_count": 3,
   "id": "e272d3fa-a89f-4f73-bf0f-f6cffa1d923c",
   "metadata": {},
   "outputs": [],
   "source": [
    "df = pd.read_csv(\"Global Population Trends(2016-2022).csv\")"
   ]
  },
  {
   "cell_type": "code",
   "execution_count": 4,
   "id": "29806e4d-e165-494e-b914-aaf223f67e59",
   "metadata": {},
   "outputs": [
    {
     "data": {
      "text/html": [
       "<div>\n",
       "<style scoped>\n",
       "    .dataframe tbody tr th:only-of-type {\n",
       "        vertical-align: middle;\n",
       "    }\n",
       "\n",
       "    .dataframe tbody tr th {\n",
       "        vertical-align: top;\n",
       "    }\n",
       "\n",
       "    .dataframe thead th {\n",
       "        text-align: right;\n",
       "    }\n",
       "</style>\n",
       "<table border=\"1\" class=\"dataframe\">\n",
       "  <thead>\n",
       "    <tr style=\"text-align: right;\">\n",
       "      <th></th>\n",
       "      <th>Country</th>\n",
       "      <th>Year</th>\n",
       "      <th>Total Population</th>\n",
       "      <th>Urban Population</th>\n",
       "      <th>Rural Population</th>\n",
       "      <th>Population Density</th>\n",
       "      <th>Life Expectancy</th>\n",
       "      <th>Birth Rate</th>\n",
       "      <th>Death Rate</th>\n",
       "      <th>Fertility Rate</th>\n",
       "      <th>Infant Mortality Rate</th>\n",
       "      <th>Growth Rate</th>\n",
       "    </tr>\n",
       "  </thead>\n",
       "  <tbody>\n",
       "    <tr>\n",
       "      <th>0</th>\n",
       "      <td>Afghanistan</td>\n",
       "      <td>2017</td>\n",
       "      <td>-</td>\n",
       "      <td>-</td>\n",
       "      <td>-</td>\n",
       "      <td>55</td>\n",
       "      <td>63.0</td>\n",
       "      <td>37.342</td>\n",
       "      <td>7.027</td>\n",
       "      <td>5.129</td>\n",
       "      <td>49.4</td>\n",
       "      <td>-</td>\n",
       "    </tr>\n",
       "    <tr>\n",
       "      <th>1</th>\n",
       "      <td>Afghanistan</td>\n",
       "      <td>2018</td>\n",
       "      <td>36,686,784</td>\n",
       "      <td>9,353,296</td>\n",
       "      <td>27,333,488</td>\n",
       "      <td>56</td>\n",
       "      <td>63.0</td>\n",
       "      <td>36.927</td>\n",
       "      <td>6.981</td>\n",
       "      <td>5.002</td>\n",
       "      <td>47.8</td>\n",
       "      <td>3.0</td>\n",
       "    </tr>\n",
       "    <tr>\n",
       "      <th>2</th>\n",
       "      <td>Afghanistan</td>\n",
       "      <td>2019</td>\n",
       "      <td>37,769,499</td>\n",
       "      <td>9,727,157</td>\n",
       "      <td>28,042,342</td>\n",
       "      <td>58</td>\n",
       "      <td>64.0</td>\n",
       "      <td>36.466</td>\n",
       "      <td>6.791</td>\n",
       "      <td>4.87</td>\n",
       "      <td>46.3</td>\n",
       "      <td>3.0</td>\n",
       "    </tr>\n",
       "    <tr>\n",
       "      <th>3</th>\n",
       "      <td>Afghanistan</td>\n",
       "      <td>2020</td>\n",
       "      <td>38,972,230</td>\n",
       "      <td>10,142,913</td>\n",
       "      <td>28,829,317</td>\n",
       "      <td>60</td>\n",
       "      <td>63.0</td>\n",
       "      <td>36.051</td>\n",
       "      <td>7.113</td>\n",
       "      <td>4.75</td>\n",
       "      <td>44.8</td>\n",
       "      <td>3.0</td>\n",
       "    </tr>\n",
       "    <tr>\n",
       "      <th>4</th>\n",
       "      <td>Afghanistan</td>\n",
       "      <td>2021</td>\n",
       "      <td>40,099,462</td>\n",
       "      <td>10,551,772</td>\n",
       "      <td>29,547,690</td>\n",
       "      <td>-</td>\n",
       "      <td>62.0</td>\n",
       "      <td>35.842</td>\n",
       "      <td>7.344</td>\n",
       "      <td>4.643</td>\n",
       "      <td>43.4</td>\n",
       "      <td>3.0</td>\n",
       "    </tr>\n",
       "  </tbody>\n",
       "</table>\n",
       "</div>"
      ],
      "text/plain": [
       "       Country  Year Total Population Urban Population Rural Population  \\\n",
       "0  Afghanistan  2017                -                -                -   \n",
       "1  Afghanistan  2018       36,686,784        9,353,296       27,333,488   \n",
       "2  Afghanistan  2019       37,769,499        9,727,157       28,042,342   \n",
       "3  Afghanistan  2020       38,972,230       10,142,913       28,829,317   \n",
       "4  Afghanistan  2021       40,099,462       10,551,772       29,547,690   \n",
       "\n",
       "  Population Density Life Expectancy  Birth Rate  Death Rate Fertility Rate  \\\n",
       "0                 55            63.0      37.342       7.027          5.129   \n",
       "1                 56            63.0      36.927       6.981          5.002   \n",
       "2                 58            64.0      36.466       6.791           4.87   \n",
       "3                 60            63.0      36.051       7.113           4.75   \n",
       "4                  -            62.0      35.842       7.344          4.643   \n",
       "\n",
       "  Infant Mortality Rate Growth Rate  \n",
       "0                  49.4           -  \n",
       "1                  47.8         3.0  \n",
       "2                  46.3         3.0  \n",
       "3                  44.8         3.0  \n",
       "4                  43.4         3.0  "
      ]
     },
     "execution_count": 4,
     "metadata": {},
     "output_type": "execute_result"
    }
   ],
   "source": [
    "df.head()"
   ]
  },
  {
   "cell_type": "code",
   "execution_count": 5,
   "id": "81a69450-54ab-4797-8e10-72d260587eb4",
   "metadata": {},
   "outputs": [
    {
     "ename": "TypeError",
     "evalue": "'tuple' object is not callable",
     "output_type": "error",
     "traceback": [
      "\u001b[1;31m---------------------------------------------------------------------------\u001b[0m",
      "\u001b[1;31mTypeError\u001b[0m                                 Traceback (most recent call last)",
      "Cell \u001b[1;32mIn[5], line 1\u001b[0m\n\u001b[1;32m----> 1\u001b[0m \u001b[43mdf\u001b[49m\u001b[38;5;241;43m.\u001b[39;49m\u001b[43mshape\u001b[49m\u001b[43m(\u001b[49m\u001b[43m)\u001b[49m\n",
      "\u001b[1;31mTypeError\u001b[0m: 'tuple' object is not callable"
     ]
    }
   ],
   "source": [
    "df.shape()"
   ]
  },
  {
   "cell_type": "code",
   "execution_count": null,
   "id": "954020c7-faef-4a79-85ce-de17e3fbc07a",
   "metadata": {},
   "outputs": [],
   "source": []
  }
 ],
 "metadata": {
  "kernelspec": {
   "display_name": "Python 3 (ipykernel)",
   "language": "python",
   "name": "python3"
  },
  "language_info": {
   "codemirror_mode": {
    "name": "ipython",
    "version": 3
   },
   "file_extension": ".py",
   "mimetype": "text/x-python",
   "name": "python",
   "nbconvert_exporter": "python",
   "pygments_lexer": "ipython3",
   "version": "3.11.5"
  }
 },
 "nbformat": 4,
 "nbformat_minor": 5
}
